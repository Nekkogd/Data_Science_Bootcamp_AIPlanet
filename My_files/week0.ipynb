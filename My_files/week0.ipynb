{
 "cells": [
  {
   "attachments": {},
   "cell_type": "markdown",
   "metadata": {},
   "source": [
    "# Session: Introduction to Data Science and its Aplications \n",
    "by Admond Lee\n",
    "\n",
    "## What is Data Science?\n",
    "Using data to create as much impact as possible for your company\n",
    "\n",
    "As a Data Scientist your job is to solve real company problems using data\n",
    "\n",
    "Data Science = Computer Science + Data Mining\n",
    "\n",
    "Aplications:\n",
    "* Machine Lerning\n",
    "* Deep Lerning\n",
    "* AI\n",
    "\n",
    "## Data Science Explained\n",
    "* Computer Science / IT\n",
    "* Math and Statistics\n",
    "* Domains / Business Knowledge\n",
    "\n",
    "## How Data Science is beinf used?\n",
    "* Maps\n",
    "* RRSS\n",
    "* Facial Recognition\n",
    "* Stream Plataforms\n",
    "\n",
    "## Books \n",
    "- An Introduction to Statistical Learning with aplications in R\n",
    "- Python Machine Lerning\n",
    "- Python Data Science Handbook\n",
    "\n",
    "## Plataforms\n",
    "- Coursera\n",
    "- Udemy\n",
    "- Lynda.com\n",
    "- *-kaggle-*\n",
    "- *-Medium-*\n",
    "\n",
    "**stackoverflow**\n",
    "\n",
    "## Tools Used\n",
    "* Python\n",
    "* Hadoop\n",
    "* Jupyter\n",
    "* SQL\n",
    "* mongoDB\n",
    "\n",
    "## Data Science Workflow Revealed\n",
    "\n",
    "*Team Data Science Process (TDSP)*\n",
    "\n",
    "### Data Science Lifecycle (iterativ)\n",
    "\n",
    "Start\n",
    "- Business Understanding\n",
    "    - Modeling (Feature Engineering, Model Traing, Model Evaluation)\n",
    "    - Data Acquisitions & understanding (Data Souerce; Pipeline; Envionment; Wrangling, Exploration & Cleaning)\n",
    "        - Deployment\n",
    "            - customers acceptace -> end"
   ]
  },
  {
   "attachments": {},
   "cell_type": "markdown",
   "metadata": {},
   "source": [
    "# Python Basics and Intro to Data Types\n",
    "## Comments\n",
    "*Recuerda comentar los codigos*\n"
   ]
  },
  {
   "cell_type": "code",
   "execution_count": 1,
   "metadata": {},
   "outputs": [
    {
     "data": {
      "text/plain": [
       "5"
      ]
     },
     "execution_count": 1,
     "metadata": {},
     "output_type": "execute_result"
    }
   ],
   "source": [
    "# assign a value 5 to b\n",
    "b = 5\n",
    "b"
   ]
  },
  {
   "attachments": {},
   "cell_type": "markdown",
   "metadata": {},
   "source": [
    "## Operators\n",
    "### Arithmetic Operator"
   ]
  },
  {
   "cell_type": "code",
   "execution_count": 2,
   "metadata": {},
   "outputs": [
    {
     "data": {
      "text/plain": [
       "16"
      ]
     },
     "execution_count": 2,
     "metadata": {},
     "output_type": "execute_result"
    }
   ],
   "source": [
    "4**2 #Exponentiation"
   ]
  },
  {
   "cell_type": "code",
   "execution_count": 3,
   "metadata": {},
   "outputs": [
    {
     "data": {
      "text/plain": [
       "4"
      ]
     },
     "execution_count": 3,
     "metadata": {},
     "output_type": "execute_result"
    }
   ],
   "source": [
    "18%7 #Modulo"
   ]
  },
  {
   "attachments": {},
   "cell_type": "markdown",
   "metadata": {},
   "source": [
    "### Comparison Operator"
   ]
  },
  {
   "cell_type": "code",
   "execution_count": 4,
   "metadata": {},
   "outputs": [
    {
     "data": {
      "text/plain": [
       "True"
      ]
     },
     "execution_count": 4,
     "metadata": {},
     "output_type": "execute_result"
    }
   ],
   "source": [
    "2 < 3"
   ]
  },
  {
   "cell_type": "code",
   "execution_count": 6,
   "metadata": {},
   "outputs": [
    {
     "data": {
      "text/plain": [
       "False"
      ]
     },
     "execution_count": 6,
     "metadata": {},
     "output_type": "execute_result"
    }
   ],
   "source": [
    "2==3"
   ]
  },
  {
   "cell_type": "code",
   "execution_count": 7,
   "metadata": {},
   "outputs": [
    {
     "data": {
      "text/plain": [
       "True"
      ]
     },
     "execution_count": 7,
     "metadata": {},
     "output_type": "execute_result"
    }
   ],
   "source": [
    "2 <= 3"
   ]
  },
  {
   "cell_type": "code",
   "execution_count": 8,
   "metadata": {},
   "outputs": [
    {
     "data": {
      "text/plain": [
       "True"
      ]
     },
     "execution_count": 8,
     "metadata": {},
     "output_type": "execute_result"
    }
   ],
   "source": [
    "\"rahul\" < \"rohan\""
   ]
  },
  {
   "attachments": {},
   "cell_type": "markdown",
   "metadata": {},
   "source": [
    "## Variables"
   ]
  },
  {
   "cell_type": "code",
   "execution_count": 10,
   "metadata": {},
   "outputs": [],
   "source": [
    "# Variable name = value or information\n",
    "x = 5\n",
    "y = \"John\""
   ]
  },
  {
   "attachments": {},
   "cell_type": "markdown",
   "metadata": {},
   "source": [
    "## Input and Output"
   ]
  },
  {
   "cell_type": "code",
   "execution_count": 12,
   "metadata": {},
   "outputs": [
    {
     "name": "stdout",
     "output_type": "stream",
     "text": [
      "Hello world\n"
     ]
    },
    {
     "data": {
      "text/plain": [
       "str"
      ]
     },
     "execution_count": 12,
     "metadata": {},
     "output_type": "execute_result"
    }
   ],
   "source": [
    "# Print Function\n",
    "print(\"Hello world\")\n",
    "\n",
    "#Input Function\n",
    "x = input(\"What is your age?\")\n",
    "\n",
    "type(x)"
   ]
  },
  {
   "attachments": {},
   "cell_type": "markdown",
   "metadata": {},
   "source": [
    "## Data Structures and Data Types\n",
    "* Numerical Types: int (integer), float (decimal)\n",
    "* Text Type: str (string)\n",
    "* Boolean Type: bool (True or False)"
   ]
  },
  {
   "cell_type": "code",
   "execution_count": 13,
   "metadata": {},
   "outputs": [
    {
     "data": {
      "text/plain": [
       "int"
      ]
     },
     "execution_count": 13,
     "metadata": {},
     "output_type": "execute_result"
    }
   ],
   "source": [
    "a = 4\n",
    "type(a)"
   ]
  },
  {
   "cell_type": "code",
   "execution_count": 14,
   "metadata": {},
   "outputs": [
    {
     "data": {
      "text/plain": [
       "float"
      ]
     },
     "execution_count": 14,
     "metadata": {},
     "output_type": "execute_result"
    }
   ],
   "source": [
    "b = 2.5 \n",
    "type(b)"
   ]
  },
  {
   "cell_type": "code",
   "execution_count": 15,
   "metadata": {},
   "outputs": [
    {
     "data": {
      "text/plain": [
       "str"
      ]
     },
     "execution_count": 15,
     "metadata": {},
     "output_type": "execute_result"
    }
   ],
   "source": [
    "text = \"hello\"\n",
    "type(text)"
   ]
  },
  {
   "cell_type": "code",
   "execution_count": 16,
   "metadata": {},
   "outputs": [
    {
     "data": {
      "text/plain": [
       "bool"
      ]
     },
     "execution_count": 16,
     "metadata": {},
     "output_type": "execute_result"
    }
   ],
   "source": [
    "boolvar = True \n",
    "type(boolvar)"
   ]
  },
  {
   "attachments": {},
   "cell_type": "markdown",
   "metadata": {},
   "source": [
    "### Strigs\n",
    "Sequence Type: strings, Unicode strings, lists, tuples, bytearrays, buffers, and xrange objects"
   ]
  },
  {
   "cell_type": "code",
   "execution_count": 21,
   "metadata": {},
   "outputs": [
    {
     "name": "stdout",
     "output_type": "stream",
     "text": [
      ",\n",
      "World\n",
      "!\n",
      "orl\n"
     ]
    }
   ],
   "source": [
    "a = \"Hello, World!\"\n",
    "print(a[5])\n",
    "print(a[7:12])\n",
    "print(a[-1])\n",
    "print(a[-5:-2])"
   ]
  },
  {
   "cell_type": "code",
   "execution_count": 22,
   "metadata": {},
   "outputs": [
    {
     "data": {
      "text/plain": [
       "'abcd'"
      ]
     },
     "execution_count": 22,
     "metadata": {},
     "output_type": "execute_result"
    }
   ],
   "source": [
    "# Concatenation\n",
    "\"ab\"+\"cd\""
   ]
  },
  {
   "cell_type": "code",
   "execution_count": 23,
   "metadata": {},
   "outputs": [
    {
     "name": "stdout",
     "output_type": "stream",
     "text": [
      "Python is awesome\n"
     ]
    }
   ],
   "source": [
    "x = \"Python is \"\n",
    "y = \"awesome\"\n",
    "z =  x + y\n",
    "print(z)"
   ]
  },
  {
   "cell_type": "code",
   "execution_count": 24,
   "metadata": {},
   "outputs": [
    {
     "data": {
      "text/plain": [
       "7"
      ]
     },
     "execution_count": 24,
     "metadata": {},
     "output_type": "execute_result"
    }
   ],
   "source": [
    "len(y)"
   ]
  },
  {
   "attachments": {},
   "cell_type": "markdown",
   "metadata": {},
   "source": [
    "## Lists and Tuples"
   ]
  },
  {
   "cell_type": "code",
   "execution_count": 26,
   "metadata": {},
   "outputs": [
    {
     "name": "stdout",
     "output_type": "stream",
     "text": [
      "2\n",
      "7\n",
      "[1, 2, 3, 4, 5, 6, 7]\n"
     ]
    }
   ],
   "source": [
    "# Lists\n",
    "Lista = [\"Computer\", 2022, \"Brasil\", 2022, True, 16.38]\n",
    "Lista.append(\"tulips\")\n",
    "print(Lista.count(2022))\n",
    "print(len(Lista))\n",
    "examplelist = [1,3,5,2,4,7,6]\n",
    "examplelist.sort()\n",
    "print(examplelist)"
   ]
  },
  {
   "cell_type": "code",
   "execution_count": 28,
   "metadata": {},
   "outputs": [
    {
     "data": {
      "text/plain": [
       "['Computer', 2022, 'Brasil', 2022, True, 16.38]"
      ]
     },
     "execution_count": 28,
     "metadata": {},
     "output_type": "execute_result"
    }
   ],
   "source": [
    "# Tuples\n",
    "Tup = [\"Computer\", 2022, \"Brasil\", 2022, True, 16.38]\n",
    "Tup\n",
    "# A only difference with a List is Tuples are inmutable"
   ]
  },
  {
   "attachments": {},
   "cell_type": "markdown",
   "metadata": {},
   "source": [
    "## Loops and Range"
   ]
  },
  {
   "cell_type": "code",
   "execution_count": 33,
   "metadata": {},
   "outputs": [
    {
     "name": "stdout",
     "output_type": "stream",
     "text": [
      "1.73\n",
      "1.68\n",
      "1.71\n",
      "1.89\n",
      "___\n",
      "g\n",
      "r\n",
      "e\n",
      "e\n",
      "n\n",
      " \n",
      "a\n",
      "p\n",
      "p\n",
      "l\n",
      "e\n",
      "___\n",
      "F\n",
      "A\n",
      "M\n",
      "I\n",
      "L\n",
      "Y\n",
      "___\n",
      "index 0 : 1.73\n",
      "index 1 : 1.68\n",
      "index 2 : 1.71\n",
      "index 3 : 1.89\n"
     ]
    }
   ],
   "source": [
    "# for Loop\n",
    "fam_heights = [1.73, 1.68, 1.71, 1.89]\n",
    "for height in fam_heights:\n",
    "    print(height)\n",
    "print(\"___\")\n",
    "\n",
    "for i in \"green apple\":\n",
    "    print(i)\n",
    "print(\"___\")\n",
    "\n",
    "for c in \"family\":\n",
    "    print(c.capitalize())\n",
    "print(\"___\")\n",
    "\n",
    "for index,height in enumerate(fam_heights):\n",
    "    print(\"index \" + str(index) + \" : \" + str(height))"
   ]
  },
  {
   "cell_type": "code",
   "execution_count": 34,
   "metadata": {},
   "outputs": [
    {
     "name": "stdout",
     "output_type": "stream",
     "text": [
      "1\n",
      "2\n",
      "3\n"
     ]
    }
   ],
   "source": [
    "# while Loop\n",
    "x = 1\n",
    "while x < 4:\n",
    "    print(x)\n",
    "    x+=1"
   ]
  },
  {
   "cell_type": "code",
   "execution_count": 38,
   "metadata": {},
   "outputs": [
    {
     "name": "stdout",
     "output_type": "stream",
     "text": [
      "0, 1, 2, 3, 4,  \n",
      "___\n",
      "5, 6, 7, 8, 9,  \n",
      "___\n",
      "Printing All even numbers between 2 and 10 using range()\n",
      "2, 4, 6, 8,  \n",
      "___\n"
     ]
    }
   ],
   "source": [
    "#range()\n",
    "for i in range(5):\n",
    "    print(i, end=', ')\n",
    "\n",
    "print(\" \")\n",
    "print(\"___\")\n",
    "\n",
    "for i in range(5, 10):\n",
    "    print(i, end=', ')\n",
    "\n",
    "print(\" \")\n",
    "print(\"___\")\n",
    "\n",
    "print(\"Printing All even numbers between 2 and 10 using range()\")\n",
    "for i in range(2, 10, 2):\n",
    "    print(i, end=', ')\n",
    "\n",
    "print(\" \")\n",
    "print(\"___\")"
   ]
  },
  {
   "cell_type": "code",
   "execution_count": null,
   "metadata": {},
   "outputs": [],
   "source": []
  }
 ],
 "metadata": {
  "kernelspec": {
   "display_name": "Python 3",
   "language": "python",
   "name": "python3"
  },
  "language_info": {
   "codemirror_mode": {
    "name": "ipython",
    "version": 3
   },
   "file_extension": ".py",
   "mimetype": "text/x-python",
   "name": "python",
   "nbconvert_exporter": "python",
   "pygments_lexer": "ipython3",
   "version": "3.8.10"
  },
  "orig_nbformat": 4,
  "vscode": {
   "interpreter": {
    "hash": "916dbcbb3f70747c44a77c7bcd40155683ae19c65e1c03b4aa3499c5328201f1"
   }
  }
 },
 "nbformat": 4,
 "nbformat_minor": 2
}
