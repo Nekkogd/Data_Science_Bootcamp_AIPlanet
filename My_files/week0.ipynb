{
 "cells": [
  {
   "attachments": {},
   "cell_type": "markdown",
   "metadata": {},
   "source": [
    "# Session: Introduction to Data Science and its Aplications \n",
    "by Admond Lee\n",
    "\n",
    "## What is Data Science?\n",
    "Using data to create as much impact as possible for your company\n",
    "\n",
    "As a Data Scientist your job is to solve real company problems using data\n",
    "\n",
    "Data Science = Computer Science + Data Mining\n",
    "\n",
    "Aplications:\n",
    "* Machine Lerning\n",
    "* Deep Lerning\n",
    "* AI\n",
    "\n",
    "## Data Science Explained\n",
    "* Computer Science / IT\n",
    "* Math and Statistics\n",
    "* Domains / Business Knowledge\n",
    "\n",
    "## How Data Science is beinf used?\n",
    "* Maps\n",
    "* RRSS\n",
    "* Facial Recognition\n",
    "* Stream Plataforms\n",
    "\n",
    "## Books \n",
    "- An Introduction to Statistical Learning with aplications in R\n",
    "- Python Machine Lerning\n",
    "- Python Data Science Handbook\n",
    "\n",
    "## Plataforms\n",
    "- Coursera\n",
    "- Udemy\n",
    "- Lynda.com\n",
    "- *-kaggle-*\n",
    "- *-Medium-*\n",
    "\n",
    "**stackoverflow**\n",
    "\n",
    "## Tools Used\n",
    "* Python\n",
    "* Hadoop\n",
    "* Jupyter\n",
    "* SQL\n",
    "* mongoDB\n",
    "\n",
    "## Data Science Workflow Revealed\n",
    "\n",
    "*Team Data Science Process (TDSP)*\n",
    "\n",
    "### Data Science Lifecycle (iterativ)\n",
    "\n",
    "Start\n",
    "- Business Understanding\n",
    "    - Modeling (Feature Engineering, Model Traing, Model Evaluation)\n",
    "    - Data Acquisitions & understanding (Data Souerce; Pipeline; Envionment; Wrangling, Exploration & Cleaning)\n",
    "        - Deployment\n",
    "            - customers acceptace -> end"
   ]
  },
  {
   "attachments": {},
   "cell_type": "markdown",
   "metadata": {},
   "source": [
    "# Python Basics and Intro to Data Types\n",
    "## Comments\n",
    "*Recuerda comentar los codigos*\n"
   ]
  },
  {
   "cell_type": "code",
   "execution_count": 1,
   "metadata": {},
   "outputs": [
    {
     "data": {
      "text/plain": [
       "5"
      ]
     },
     "execution_count": 1,
     "metadata": {},
     "output_type": "execute_result"
    }
   ],
   "source": [
    "# assign a value 5 to b\n",
    "b = 5\n",
    "b"
   ]
  },
  {
   "attachments": {},
   "cell_type": "markdown",
   "metadata": {},
   "source": [
    "## Operators\n",
    "### Arithmetic Operator"
   ]
  },
  {
   "cell_type": "code",
   "execution_count": 2,
   "metadata": {},
   "outputs": [
    {
     "data": {
      "text/plain": [
       "16"
      ]
     },
     "execution_count": 2,
     "metadata": {},
     "output_type": "execute_result"
    }
   ],
   "source": [
    "4**2 #Exponentiation"
   ]
  },
  {
   "cell_type": "code",
   "execution_count": 3,
   "metadata": {},
   "outputs": [
    {
     "data": {
      "text/plain": [
       "4"
      ]
     },
     "execution_count": 3,
     "metadata": {},
     "output_type": "execute_result"
    }
   ],
   "source": [
    "18%7 #Modulo"
   ]
  },
  {
   "attachments": {},
   "cell_type": "markdown",
   "metadata": {},
   "source": [
    "### Comparison Operator"
   ]
  },
  {
   "cell_type": "code",
   "execution_count": 4,
   "metadata": {},
   "outputs": [
    {
     "data": {
      "text/plain": [
       "True"
      ]
     },
     "execution_count": 4,
     "metadata": {},
     "output_type": "execute_result"
    }
   ],
   "source": [
    "2 < 3"
   ]
  },
  {
   "cell_type": "code",
   "execution_count": 6,
   "metadata": {},
   "outputs": [
    {
     "data": {
      "text/plain": [
       "False"
      ]
     },
     "execution_count": 6,
     "metadata": {},
     "output_type": "execute_result"
    }
   ],
   "source": [
    "2==3"
   ]
  },
  {
   "cell_type": "code",
   "execution_count": 7,
   "metadata": {},
   "outputs": [
    {
     "data": {
      "text/plain": [
       "True"
      ]
     },
     "execution_count": 7,
     "metadata": {},
     "output_type": "execute_result"
    }
   ],
   "source": [
    "2 <= 3"
   ]
  },
  {
   "cell_type": "code",
   "execution_count": 8,
   "metadata": {},
   "outputs": [
    {
     "data": {
      "text/plain": [
       "True"
      ]
     },
     "execution_count": 8,
     "metadata": {},
     "output_type": "execute_result"
    }
   ],
   "source": [
    "\"rahul\" < \"rohan\""
   ]
  },
  {
   "attachments": {},
   "cell_type": "markdown",
   "metadata": {},
   "source": [
    "## Variables"
   ]
  },
  {
   "cell_type": "code",
   "execution_count": 10,
   "metadata": {},
   "outputs": [],
   "source": [
    "# Variable name = value or information\n",
    "x = 5\n",
    "y = \"John\""
   ]
  },
  {
   "attachments": {},
   "cell_type": "markdown",
   "metadata": {},
   "source": [
    "## Input and Output"
   ]
  },
  {
   "cell_type": "code",
   "execution_count": 12,
   "metadata": {},
   "outputs": [
    {
     "name": "stdout",
     "output_type": "stream",
     "text": [
      "Hello world\n"
     ]
    },
    {
     "data": {
      "text/plain": [
       "str"
      ]
     },
     "execution_count": 12,
     "metadata": {},
     "output_type": "execute_result"
    }
   ],
   "source": [
    "# Print Function\n",
    "print(\"Hello world\")\n",
    "\n",
    "#Input Function\n",
    "x = input(\"What is your age?\")\n",
    "\n",
    "type(x)"
   ]
  },
  {
   "attachments": {},
   "cell_type": "markdown",
   "metadata": {},
   "source": [
    "## Data Structures and Data Types\n",
    "* Numerical Types: int (integer), float (decimal)\n",
    "* Text Type: str (string)\n",
    "* Boolean Type: bool (True or False)"
   ]
  },
  {
   "cell_type": "code",
   "execution_count": 13,
   "metadata": {},
   "outputs": [
    {
     "data": {
      "text/plain": [
       "int"
      ]
     },
     "execution_count": 13,
     "metadata": {},
     "output_type": "execute_result"
    }
   ],
   "source": [
    "a = 4\n",
    "type(a)"
   ]
  },
  {
   "cell_type": "code",
   "execution_count": 14,
   "metadata": {},
   "outputs": [
    {
     "data": {
      "text/plain": [
       "float"
      ]
     },
     "execution_count": 14,
     "metadata": {},
     "output_type": "execute_result"
    }
   ],
   "source": [
    "b = 2.5 \n",
    "type(b)"
   ]
  },
  {
   "cell_type": "code",
   "execution_count": 15,
   "metadata": {},
   "outputs": [
    {
     "data": {
      "text/plain": [
       "str"
      ]
     },
     "execution_count": 15,
     "metadata": {},
     "output_type": "execute_result"
    }
   ],
   "source": [
    "text = \"hello\"\n",
    "type(text)"
   ]
  },
  {
   "cell_type": "code",
   "execution_count": 16,
   "metadata": {},
   "outputs": [
    {
     "data": {
      "text/plain": [
       "bool"
      ]
     },
     "execution_count": 16,
     "metadata": {},
     "output_type": "execute_result"
    }
   ],
   "source": [
    "boolvar = True \n",
    "type(boolvar)"
   ]
  },
  {
   "attachments": {},
   "cell_type": "markdown",
   "metadata": {},
   "source": [
    "### Strigs\n",
    "Sequence Type: strings, Unicode strings, lists, tuples, bytearrays, buffers, and xrange objects"
   ]
  },
  {
   "cell_type": "code",
   "execution_count": 21,
   "metadata": {},
   "outputs": [
    {
     "name": "stdout",
     "output_type": "stream",
     "text": [
      ",\n",
      "World\n",
      "!\n",
      "orl\n"
     ]
    }
   ],
   "source": [
    "a = \"Hello, World!\"\n",
    "print(a[5])\n",
    "print(a[7:12])\n",
    "print(a[-1])\n",
    "print(a[-5:-2])"
   ]
  },
  {
   "cell_type": "code",
   "execution_count": 22,
   "metadata": {},
   "outputs": [
    {
     "data": {
      "text/plain": [
       "'abcd'"
      ]
     },
     "execution_count": 22,
     "metadata": {},
     "output_type": "execute_result"
    }
   ],
   "source": [
    "# Concatenation\n",
    "\"ab\"+\"cd\""
   ]
  },
  {
   "cell_type": "code",
   "execution_count": 23,
   "metadata": {},
   "outputs": [
    {
     "name": "stdout",
     "output_type": "stream",
     "text": [
      "Python is awesome\n"
     ]
    }
   ],
   "source": [
    "x = \"Python is \"\n",
    "y = \"awesome\"\n",
    "z =  x + y\n",
    "print(z)"
   ]
  },
  {
   "cell_type": "code",
   "execution_count": 24,
   "metadata": {},
   "outputs": [
    {
     "data": {
      "text/plain": [
       "7"
      ]
     },
     "execution_count": 24,
     "metadata": {},
     "output_type": "execute_result"
    }
   ],
   "source": [
    "len(y)"
   ]
  },
  {
   "attachments": {},
   "cell_type": "markdown",
   "metadata": {},
   "source": [
    "## Lists and Tuples"
   ]
  },
  {
   "cell_type": "code",
   "execution_count": 26,
   "metadata": {},
   "outputs": [
    {
     "name": "stdout",
     "output_type": "stream",
     "text": [
      "2\n",
      "7\n",
      "[1, 2, 3, 4, 5, 6, 7]\n"
     ]
    }
   ],
   "source": [
    "# Lists\n",
    "Lista = [\"Computer\", 2022, \"Brasil\", 2022, True, 16.38]\n",
    "Lista.append(\"tulips\")\n",
    "print(Lista.count(2022))\n",
    "print(len(Lista))\n",
    "examplelist = [1,3,5,2,4,7,6]\n",
    "examplelist.sort()\n",
    "print(examplelist)"
   ]
  },
  {
   "cell_type": "code",
   "execution_count": 28,
   "metadata": {},
   "outputs": [
    {
     "data": {
      "text/plain": [
       "['Computer', 2022, 'Brasil', 2022, True, 16.38]"
      ]
     },
     "execution_count": 28,
     "metadata": {},
     "output_type": "execute_result"
    }
   ],
   "source": [
    "# Tuples\n",
    "Tup = [\"Computer\", 2022, \"Brasil\", 2022, True, 16.38]\n",
    "Tup\n",
    "# A only difference with a List is Tuples are inmutable"
   ]
  },
  {
   "attachments": {},
   "cell_type": "markdown",
   "metadata": {},
   "source": [
    "## Loops and Range"
   ]
  },
  {
   "cell_type": "code",
   "execution_count": 33,
   "metadata": {},
   "outputs": [
    {
     "name": "stdout",
     "output_type": "stream",
     "text": [
      "1.73\n",
      "1.68\n",
      "1.71\n",
      "1.89\n",
      "___\n",
      "g\n",
      "r\n",
      "e\n",
      "e\n",
      "n\n",
      " \n",
      "a\n",
      "p\n",
      "p\n",
      "l\n",
      "e\n",
      "___\n",
      "F\n",
      "A\n",
      "M\n",
      "I\n",
      "L\n",
      "Y\n",
      "___\n",
      "index 0 : 1.73\n",
      "index 1 : 1.68\n",
      "index 2 : 1.71\n",
      "index 3 : 1.89\n"
     ]
    }
   ],
   "source": [
    "# for Loop\n",
    "fam_heights = [1.73, 1.68, 1.71, 1.89]\n",
    "for height in fam_heights:\n",
    "    print(height)\n",
    "print(\"___\")\n",
    "\n",
    "for i in \"green apple\":\n",
    "    print(i)\n",
    "print(\"___\")\n",
    "\n",
    "for c in \"family\":\n",
    "    print(c.capitalize())\n",
    "print(\"___\")\n",
    "\n",
    "for index,height in enumerate(fam_heights):\n",
    "    print(\"index \" + str(index) + \" : \" + str(height))"
   ]
  },
  {
   "cell_type": "code",
   "execution_count": 34,
   "metadata": {},
   "outputs": [
    {
     "name": "stdout",
     "output_type": "stream",
     "text": [
      "1\n",
      "2\n",
      "3\n"
     ]
    }
   ],
   "source": [
    "# while Loop\n",
    "x = 1\n",
    "while x < 4:\n",
    "    print(x)\n",
    "    x+=1"
   ]
  },
  {
   "cell_type": "code",
   "execution_count": 38,
   "metadata": {},
   "outputs": [
    {
     "name": "stdout",
     "output_type": "stream",
     "text": [
      "0, 1, 2, 3, 4,  \n",
      "___\n",
      "5, 6, 7, 8, 9,  \n",
      "___\n",
      "Printing All even numbers between 2 and 10 using range()\n",
      "2, 4, 6, 8,  \n",
      "___\n"
     ]
    }
   ],
   "source": [
    "#range()\n",
    "for i in range(5):\n",
    "    print(i, end=', ')\n",
    "\n",
    "print(\" \")\n",
    "print(\"___\")\n",
    "\n",
    "for i in range(5, 10):\n",
    "    print(i, end=', ')\n",
    "\n",
    "print(\" \")\n",
    "print(\"___\")\n",
    "\n",
    "print(\"Printing All even numbers between 2 and 10 using range()\")\n",
    "for i in range(2, 10, 2):\n",
    "    print(i, end=', ')\n",
    "\n",
    "print(\" \")\n",
    "print(\"___\")"
   ]
  },
  {
   "attachments": {},
   "cell_type": "markdown",
   "metadata": {},
   "source": [
    "## Conditional Statement and Dictionaries"
   ]
  },
  {
   "cell_type": "code",
   "execution_count": 6,
   "metadata": {},
   "outputs": [
    {
     "name": "stdout",
     "output_type": "stream",
     "text": [
      "Hi (1)\n",
      "Hi (-1)\n",
      "z = 4 , is even\n",
      "z = 5 , is odd\n",
      "z = 5 , is neither divisible by 2 nor by 3\n"
     ]
    }
   ],
   "source": [
    "# if\n",
    "\n",
    "if None:\n",
    "    print(\"Hi (None)\")\n",
    "\n",
    "if 1:\n",
    "    print(\"Hi (1)\")\n",
    "\n",
    "if 0:\n",
    "    print(\"Hi (0)\")\n",
    "\n",
    "if -1:\n",
    "    print(\"Hi (-1)\")\n",
    "\n",
    "z = 4\n",
    "if z%2 == 0:\n",
    "    print(\"z =\",z,\", is even\") # indentation is important\n",
    "\n",
    "# if - else\n",
    "\n",
    "z = 5\n",
    "if z%2 == 0:\n",
    "    print(\"z =\",z,\", is even\")\n",
    "else:                   #don't need to specify condition\n",
    "    print(\"z =\",z,\", is odd\") \n",
    "\n",
    "# if - elif -else\n",
    "\n",
    "z = 5\n",
    "if z%2 == 0:\n",
    "    print(\"z =\",z,\", is divisible by 2\")\n",
    "elif z%3 == 0:\n",
    "    print(\"z =\",z,\", is divisible by 3\")\n",
    "else:                   #don't need to specify condition\n",
    "    print(\"z =\",z,\", is neither divisible by 2 nor by 3\")\n"
   ]
  },
  {
   "cell_type": "code",
   "execution_count": 7,
   "metadata": {},
   "outputs": [
    {
     "data": {
      "text/plain": [
       "{1: 'Blue', 2: 'Yellow', 3: 'Red'}"
      ]
     },
     "execution_count": 7,
     "metadata": {},
     "output_type": "execute_result"
    }
   ],
   "source": [
    "# Dictionaries\n",
    "\n",
    "my_dict = {1: \"Blue\", 2: \"Yellow\", 3: \"Red\"}\n",
    "my_dict"
   ]
  },
  {
   "cell_type": "code",
   "execution_count": 8,
   "metadata": {},
   "outputs": [
    {
     "name": "stdout",
     "output_type": "stream",
     "text": [
      "afganistan --> 30.55\n",
      "albania --> 2.77\n",
      "algeria --> 39.21\n"
     ]
    }
   ],
   "source": [
    "world = {\"afganistan\": 30.55, \"albania\": 2.77, \"algeria\": 39.21}\n",
    "for key, value in world.items():\n",
    "    print(key + \" --> \" + str(value))"
   ]
  },
  {
   "cell_type": "code",
   "execution_count": 10,
   "metadata": {},
   "outputs": [
    {
     "name": "stdout",
     "output_type": "stream",
     "text": [
      "Los lados son diferentes, no es un cuadrado\n"
     ]
    }
   ],
   "source": [
    "# Practive\n",
    "## 1.Take values of length and breadth of a rectangle from the user and check if it is a square.\n",
    "\n",
    "a = float(input(\"Ingrese la dimension de un lado del rectangulo: \"))\n",
    "b = float(input(\"Ingrese la dimension del otro lado del rectangulo: \"))\n",
    "\n",
    "if a == b:\n",
    "    print(\"Ambos lados son iguales, es un cuadrado\")\n",
    "else:\n",
    "    print(\"Los lados son diferentes, no es un cuadrado\")"
   ]
  },
  {
   "cell_type": "code",
   "execution_count": 11,
   "metadata": {},
   "outputs": [
    {
     "name": "stdout",
     "output_type": "stream",
     "text": [
      "7.0\n"
     ]
    }
   ],
   "source": [
    "# Practive\n",
    "## 2. Take two int values from the user and print the greatest among them.\n",
    "\n",
    "a = float(input(\"Ingrese un numero: \"))\n",
    "b = float(input(\"Ingrese otro numero: \"))\n",
    "\n",
    "if a>b:\n",
    "    print(a)\n",
    "else:\n",
    "    print(b)"
   ]
  },
  {
   "cell_type": "code",
   "execution_count": 12,
   "metadata": {},
   "outputs": [
    {
     "name": "stdout",
     "output_type": "stream",
     "text": [
      "Es elegible para emitir su voto\n"
     ]
    }
   ],
   "source": [
    "# Practice\n",
    "## 3. Write a program to read a candidate's age and determine whether they are eligible to cast their vote.\n",
    "\n",
    "e = float(input(\"Ingrese su edad:\"))\n",
    "if e >= 18:\n",
    "    print(\"Es elegible para emitir su voto\")\n",
    "else:\n",
    "    print(\"No es elegible para emitir su voto\")\n",
    "    "
   ]
  },
  {
   "cell_type": "code",
   "execution_count": 18,
   "metadata": {},
   "outputs": [
    {
     "data": {
      "text/plain": [
       "{0: 10, 1: 20, 2: 30}"
      ]
     },
     "execution_count": 18,
     "metadata": {},
     "output_type": "execute_result"
    }
   ],
   "source": [
    "# Practice\n",
    "## 4. Write a Python program to add a key to a dictionary.\n",
    "\n",
    "SampleDictionary = {0: 10, 1: 20}\n",
    "ExpectedResult = {0: 10, 1: 20, 2: 30}\n",
    "\n",
    "SampleDictionary[2] = 30\n",
    "Result = SampleDictionary\n",
    "\n",
    "Result"
   ]
  },
  {
   "cell_type": "code",
   "execution_count": 20,
   "metadata": {},
   "outputs": [
    {
     "data": {
      "text/plain": [
       "{'Ten': 10, 'Twenty': 20, 'Thirty': 30}"
      ]
     },
     "execution_count": 20,
     "metadata": {},
     "output_type": "execute_result"
    }
   ],
   "source": [
    "# Practice\n",
    "## 5. Below are two lists; convert them into a dictionary. keys = ['Ten', 'Twenty', 'Thirty']\n",
    "values = [10, 20, 30]\n",
    "ExpectedOutput = {'Ten': 10, 'Twenty': 20, 'Thirty': 30}\n",
    "\n",
    "Output = {}\n",
    "names = [\"Ten\",\"Twenty\",\"Thirty\"]\n",
    "for i in range(3):\n",
    "    Output[names[i]] = values[i]\n",
    "\n",
    "Output"
   ]
  },
  {
   "cell_type": "code",
   "execution_count": 22,
   "metadata": {},
   "outputs": [
    {
     "data": {
      "text/plain": [
       "80"
      ]
     },
     "execution_count": 22,
     "metadata": {},
     "output_type": "execute_result"
    }
   ],
   "source": [
    "# Practice\n",
    "## 6. Access the value of key 'history'\n",
    "\n",
    "sampleDict = {\n",
    "\"class\":{\n",
    "\"student\":{\n",
    "\"name\":\"Mike\",\n",
    "\"marks\":{\n",
    "\"physics\":70,\n",
    "\"history\":80\n",
    "}\n",
    "}\n",
    "}\n",
    "}\n",
    "\n",
    "sampleDict[\"class\"][\"student\"][\"marks\"][\"history\"]"
   ]
  },
  {
   "cell_type": "code",
   "execution_count": 26,
   "metadata": {},
   "outputs": [
    {
     "data": {
      "text/plain": [
       "{'gold': 550,\n",
       " 'pouch': ['flint', 'twine', 'gemstone'],\n",
       " 'backpack': ['bedroll', 'bread loaf', 'xylophone'],\n",
       " 'pocket': ['seashell', 'strange berry', 'lint']}"
      ]
     },
     "execution_count": 26,
     "metadata": {},
     "output_type": "execute_result"
    }
   ],
   "source": [
    "# Practice\n",
    "## 7. Given the following dictionary:\n",
    "\n",
    "\"\"\"Try to do the following:\n",
    "    - Add a key to inventory called 'pocket'.\n",
    "    - Set the value of 'pocket' to be a list consisting of the strings' seashell', 'strange berry', and 'lint'.\n",
    "    - .sort()the items in the list stored under the 'backpack' key.\n",
    "    - Then .remove('dagger') from the list of items stored under the 'backpack' key.\n",
    "    - Add 50 to the number stored under the 'gold' key.\"\"\"\n",
    "\n",
    "inventory = {\n",
    "'gold' : 500,\n",
    "'pouch' : ['flint', 'twine', 'gemstone'],\n",
    "'backpack' : ['xylophone','dagger', 'bedroll','bread loaf']\n",
    "}\n",
    "\n",
    "inventory[\"pocket\"] = []\n",
    "inventory['pocket'].append(\"seashell\")\n",
    "inventory['pocket'].append(\"strange berry\")\n",
    "inventory['pocket'].append(\"lint\")\n",
    "\n",
    "inventory['backpack'].sort()\n",
    "\n",
    "inventory['backpack'].remove(\"dagger\")\n",
    "\n",
    "inventory['gold'] = inventory['gold']+50\n",
    "\n",
    "inventory"
   ]
  },
  {
   "attachments": {},
   "cell_type": "markdown",
   "metadata": {},
   "source": [
    "## Functions, Methods and Packages"
   ]
  },
  {
   "cell_type": "code",
   "execution_count": 27,
   "metadata": {},
   "outputs": [
    {
     "name": "stdout",
     "output_type": "stream",
     "text": [
      "hello world\n"
     ]
    },
    {
     "data": {
      "text/plain": [
       "'24'"
      ]
     },
     "execution_count": 27,
     "metadata": {},
     "output_type": "execute_result"
    }
   ],
   "source": [
    "print(\"hello world\")\n",
    "input(\"enter your age\")"
   ]
  },
  {
   "cell_type": "code",
   "execution_count": 30,
   "metadata": {},
   "outputs": [
    {
     "data": {
      "text/plain": [
       "6"
      ]
     },
     "execution_count": 30,
     "metadata": {},
     "output_type": "execute_result"
    }
   ],
   "source": [
    "# Examples of in-built functions\n",
    "\n",
    "x = [0, 2, 4, 5, 6]\n",
    "max(x)"
   ]
  },
  {
   "cell_type": "code",
   "execution_count": 31,
   "metadata": {},
   "outputs": [
    {
     "data": {
      "text/plain": [
       "5"
      ]
     },
     "execution_count": 31,
     "metadata": {},
     "output_type": "execute_result"
    }
   ],
   "source": [
    "len(x)"
   ]
  },
  {
   "cell_type": "code",
   "execution_count": 32,
   "metadata": {},
   "outputs": [
    {
     "data": {
      "text/plain": [
       "1.7"
      ]
     },
     "execution_count": 32,
     "metadata": {},
     "output_type": "execute_result"
    }
   ],
   "source": [
    "round(1.68, 1)"
   ]
  },
  {
   "cell_type": "code",
   "execution_count": 33,
   "metadata": {},
   "outputs": [
    {
     "data": {
      "text/plain": [
       "2"
      ]
     },
     "execution_count": 33,
     "metadata": {},
     "output_type": "execute_result"
    }
   ],
   "source": [
    "round(1.68)"
   ]
  },
  {
   "cell_type": "code",
   "execution_count": 34,
   "metadata": {},
   "outputs": [
    {
     "data": {
      "text/plain": [
       "[6, 5, 4, 2, 0]"
      ]
     },
     "execution_count": 34,
     "metadata": {},
     "output_type": "execute_result"
    }
   ],
   "source": [
    "sorted(x, reverse=True)"
   ]
  },
  {
   "cell_type": "code",
   "execution_count": 35,
   "metadata": {},
   "outputs": [
    {
     "data": {
      "text/plain": [
       "17"
      ]
     },
     "execution_count": 35,
     "metadata": {},
     "output_type": "execute_result"
    }
   ],
   "source": [
    "sum(x)"
   ]
  },
  {
   "cell_type": "code",
   "execution_count": 36,
   "metadata": {},
   "outputs": [
    {
     "name": "stdout",
     "output_type": "stream",
     "text": [
      "Dayum, functions are cool!\n"
     ]
    }
   ],
   "source": [
    "# Define functions\n",
    "def beef():\n",
    "    print(\"Dayum, functions are cool!\")\n",
    "\n",
    "beef()\n"
   ]
  },
  {
   "cell_type": "code",
   "execution_count": 39,
   "metadata": {},
   "outputs": [
    {
     "name": "stdout",
     "output_type": "stream",
     "text": [
      "2028.95\n",
      "Dayum, functions are cool!\n"
     ]
    }
   ],
   "source": [
    "def bitcoin_to_usd(btc):\n",
    "    amount = btc * 527\n",
    "    print(amount)\n",
    "\n",
    "bitcoin_to_usd(3.85)\n",
    "beef()"
   ]
  },
  {
   "cell_type": "code",
   "execution_count": 40,
   "metadata": {},
   "outputs": [
    {
     "data": {
      "text/plain": [
       "1"
      ]
     },
     "execution_count": 40,
     "metadata": {},
     "output_type": "execute_result"
    }
   ],
   "source": [
    "# Methods\n",
    "\n",
    "x.index(2)\n"
   ]
  },
  {
   "cell_type": "code",
   "execution_count": 41,
   "metadata": {},
   "outputs": [
    {
     "data": {
      "text/plain": [
       "0"
      ]
     },
     "execution_count": 41,
     "metadata": {},
     "output_type": "execute_result"
    }
   ],
   "source": [
    "x.count(1)"
   ]
  },
  {
   "cell_type": "code",
   "execution_count": 42,
   "metadata": {},
   "outputs": [
    {
     "data": {
      "text/plain": [
       "'Abcdef'"
      ]
     },
     "execution_count": 42,
     "metadata": {},
     "output_type": "execute_result"
    }
   ],
   "source": [
    "word = \"abcdef\"\n",
    "word.capitalize()"
   ]
  },
  {
   "cell_type": "code",
   "execution_count": 43,
   "metadata": {},
   "outputs": [
    {
     "data": {
      "text/plain": [
       "'abxydef'"
      ]
     },
     "execution_count": 43,
     "metadata": {},
     "output_type": "execute_result"
    }
   ],
   "source": [
    "word.replace(\"c\", \"xy\")"
   ]
  },
  {
   "cell_type": "code",
   "execution_count": 51,
   "metadata": {},
   "outputs": [
    {
     "data": {
      "text/plain": [
       "['__doc__',\n",
       " '__loader__',\n",
       " '__name__',\n",
       " '__package__',\n",
       " '__spec__',\n",
       " 'acos',\n",
       " 'acosh',\n",
       " 'asin',\n",
       " 'asinh',\n",
       " 'atan',\n",
       " 'atan2',\n",
       " 'atanh',\n",
       " 'ceil',\n",
       " 'comb',\n",
       " 'copysign',\n",
       " 'cos',\n",
       " 'cosh',\n",
       " 'degrees',\n",
       " 'dist',\n",
       " 'e',\n",
       " 'erf',\n",
       " 'erfc',\n",
       " 'exp',\n",
       " 'expm1',\n",
       " 'fabs',\n",
       " 'factorial',\n",
       " 'floor',\n",
       " 'fmod',\n",
       " 'frexp',\n",
       " 'fsum',\n",
       " 'gamma',\n",
       " 'gcd',\n",
       " 'hypot',\n",
       " 'inf',\n",
       " 'isclose',\n",
       " 'isfinite',\n",
       " 'isinf',\n",
       " 'isnan',\n",
       " 'isqrt',\n",
       " 'lcm',\n",
       " 'ldexp',\n",
       " 'lgamma',\n",
       " 'log',\n",
       " 'log10',\n",
       " 'log1p',\n",
       " 'log2',\n",
       " 'modf',\n",
       " 'nan',\n",
       " 'nextafter',\n",
       " 'perm',\n",
       " 'pi',\n",
       " 'pow',\n",
       " 'prod',\n",
       " 'radians',\n",
       " 'remainder',\n",
       " 'sin',\n",
       " 'sinh',\n",
       " 'sqrt',\n",
       " 'tan',\n",
       " 'tanh',\n",
       " 'tau',\n",
       " 'trunc',\n",
       " 'ulp']"
      ]
     },
     "execution_count": 51,
     "metadata": {},
     "output_type": "execute_result"
    }
   ],
   "source": [
    "# Packages in Python\n",
    "import math\n",
    "dir(math)\n"
   ]
  },
  {
   "cell_type": "code",
   "execution_count": 52,
   "metadata": {},
   "outputs": [
    {
     "name": "stdout",
     "output_type": "stream",
     "text": [
      "    January 2016\n",
      "Mo Tu We Th Fr Sa Su\n",
      "             1  2  3\n",
      " 4  5  6  7  8  9 10\n",
      "11 12 13 14 15 16 17\n",
      "18 19 20 21 22 23 24\n",
      "25 26 27 28 29 30 31\n",
      "\n"
     ]
    }
   ],
   "source": [
    "import calendar\n",
    "cal = calendar.month(2016,1)\n",
    "print(cal)"
   ]
  },
  {
   "attachments": {},
   "cell_type": "markdown",
   "metadata": {},
   "source": [
    "## Introduction to Fundamentals of Python ans NumPy\n",
    "\n",
    "### Arrays\n",
    "**What?**\n",
    "Similar to a list, an array is also a data structure which can hold more than one value at a time. \n",
    "It can only hold a collection or ordered series of elements of the same type.\n",
    "**Why?**\n",
    "A combination of Arrays, together with Python could save you a lot of time. Arrays help reduce the overall size of your code.\n",
    "**List vs Array**\n",
    "A list can store any type of values such as intergers, strings, etc. Whereas an arrays, stores only single data type values, i.e you can only have an array of integers, an array of strings, etc.\n",
    "\n",
    "### Vector\n",
    "* A vector, in programming, is a type of array that is one dimensional.\n",
    "* **Now, what are dimensions?** - Let’s take an example of box to explain this. A box has three dimensions width, length and depth (or height). Similarly, in data science we will be working with “N” dimensional datasets. “N” could be any number.\n",
    "\n",
    "### Matrix\n",
    "* Matrix is an arrangement of numbers into rows and columns\n",
    "\n",
    "***Session Details***\n",
    "\n",
    "Tutor: Sai Gayatri (Data Scientist at Tetrasoft Inc and Machine Learning/Data Science Instructor).\n",
    "Topic: Session on NumPy Library \n",
    "Date & time: 24th May, at 8:30 pm IST (5:00 pm CET, please locate your time in your timezone here). \n",
    "Youtube live link: https://www.youtube.com/watch?v=lYcz4eCZTvE\n",
    "Notebook that would be used during session: https://bit.ly/2ZBVXQT (If you are using it Google Colab, just go to file → click “save a copy in drive” to run the notebook)\n",
    "\n",
    "\n"
   ]
  },
  {
   "cell_type": "code",
   "execution_count": null,
   "metadata": {},
   "outputs": [],
   "source": []
  }
 ],
 "metadata": {
  "kernelspec": {
   "display_name": "base",
   "language": "python",
   "name": "python3"
  },
  "language_info": {
   "codemirror_mode": {
    "name": "ipython",
    "version": 3
   },
   "file_extension": ".py",
   "mimetype": "text/x-python",
   "name": "python",
   "nbconvert_exporter": "python",
   "pygments_lexer": "ipython3",
   "version": "3.9.7"
  },
  "orig_nbformat": 4,
  "vscode": {
   "interpreter": {
    "hash": "c40244537d48a44f0f78aa85e3d97623f79e3c29b841a6836e13fdebcc7dc535"
   }
  }
 },
 "nbformat": 4,
 "nbformat_minor": 2
}
