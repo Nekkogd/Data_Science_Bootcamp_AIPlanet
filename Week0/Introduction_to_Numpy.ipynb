{
  "cells": [
    {
      "cell_type": "markdown",
      "metadata": {
        "colab_type": "text",
        "id": "view-in-github"
      },
      "source": [
        "<a href=\"https://colab.research.google.com/github/dphi-official/Data_Science_Bootcamp/blob/master/Week0/Introduction_to_Numpy.ipynb\" target=\"_parent\"><img src=\"https://colab.research.google.com/assets/colab-badge.svg\" alt=\"Open In Colab\"/></a>"
      ]
    },
    {
      "cell_type": "markdown",
      "metadata": {
        "colab_type": "text",
        "id": "625hlYMPf8zF"
      },
      "source": [
        "# Week 0\n",
        "# `Numpy`, Scientific and numeric library\n"
      ]
    },
    {
      "cell_type": "markdown",
      "metadata": {
        "colab_type": "text",
        "id": "xJOXAgfBf8zI"
      },
      "source": [
        "`Numerical Python` popularly known as `Numpy` is core library for scientific computing. It provides high performance multi-dimensional array object and tools for working with these objects. \n",
        "\n",
        "In the following sections, we will be working on the `Numpy` library and its uses. We will compare the performance of some `Numpy` operations with their classic `Python` equivalent and discuss the uses of the library. Let us begin!"
      ]
    },
    {
      "cell_type": "markdown",
      "metadata": {
        "colab_type": "text",
        "id": "NQCUhFQSf8zK"
      },
      "source": [
        "## 1. Comparing `Python` List vs `Numpy` array (This section is optional and can be skipped)"
      ]
    },
    {
      "cell_type": "markdown",
      "metadata": {
        "colab_type": "text",
        "id": "Cpk4vXTSHOFd"
      },
      "source": [
        "***You DON'T need to memorize this code - it is just to give you a comparison to know why NumPy is better. Reason: It could be overwhelming sometimes as a beginner so don't hesitate to simply skip section 1 and jump to section 2. However, please ensure you read the conclusion***"
      ]
    },
    {
      "cell_type": "markdown",
      "metadata": {
        "colab_type": "text",
        "id": "NSQtOH1Rf8zL"
      },
      "source": [
        "Consider the following snippet adapted from https://webcourses.ucf.edu/courses/. We start importing the `numpy` and `timeit` libraries. `Numpy`, as we have stated, enables scientific computing and high performance tasks executions with multi-dimensional or n-dimensional arrays. The `Timer` module from `timeit` library is used for the purpose of calculating the time that certain scripts take."
      ]
    },
    {
      "cell_type": "code",
      "execution_count": 1,
      "metadata": {
        "colab": {},
        "colab_type": "code",
        "id": "i1i1tS9tf8zN"
      },
      "outputs": [],
      "source": [
        "import numpy as np\n",
        "from timeit import Timer"
      ]
    },
    {
      "cell_type": "markdown",
      "metadata": {
        "colab_type": "text",
        "id": "louBYzo8f8zY"
      },
      "source": [
        "With imported libraries, we proceed to create two example arrays with numbers in the range [0, 9999]:"
      ]
    },
    {
      "cell_type": "code",
      "execution_count": 29,
      "metadata": {
        "colab": {},
        "colab_type": "code",
        "id": "241igxSDf8za"
      },
      "outputs": [
        {
          "name": "stdout",
          "output_type": "stream",
          "text": [
            "range(0, 10000)\n",
            "range(0, 10000)\n",
            "[   0    1    2 ... 9997 9998 9999]\n",
            "[   0    1    2 ... 9997 9998 9999]\n"
          ]
        }
      ],
      "source": [
        "size_of_vec = 10000\n",
        "X_list = range(size_of_vec)\n",
        "print(X_list)\n",
        "Y_list = range(size_of_vec)\n",
        "print(Y_list)\n",
        "X = np.arange(size_of_vec)\n",
        "print(X)\n",
        "Y = np.arange(size_of_vec)\n",
        "print(Y)"
      ]
    },
    {
      "cell_type": "markdown",
      "metadata": {
        "colab_type": "text",
        "id": "AzHFPnhEf8zh"
      },
      "source": [
        "To compare the performance of two scripts, one explicitly developed with `Python` and another with `Numpy`, we defined two user functions:"
      ]
    },
    {
      "cell_type": "code",
      "execution_count": 30,
      "metadata": {
        "colab": {},
        "colab_type": "code",
        "id": "SawZl2J_f8zi"
      },
      "outputs": [],
      "source": [
        "def pure_python_version(): #Explicitly Python based with lists\n",
        "    Z = []\n",
        "    for i in range(len(X_list)):\n",
        "        Z.append(X_list[i] + Y_list[i])\n",
        "    \n",
        "def numpy_version(): #Explicitly Numpy based with vectorization\n",
        "    Z = X + Y "
      ]
    },
    {
      "cell_type": "markdown",
      "metadata": {
        "colab_type": "text",
        "id": "9BgUjtIrf8zq"
      },
      "source": [
        "We call the developed functions and measure the time it takes to execute them once:"
      ]
    },
    {
      "cell_type": "code",
      "execution_count": 31,
      "metadata": {
        "colab": {
          "base_uri": "https://localhost:8080/",
          "height": 71
        },
        "colab_type": "code",
        "id": "dXd9ssVef8zr",
        "outputId": "8fd16c0e-ee98-4c35-df2e-13bdcdaa7e0b"
      },
      "outputs": [
        {
          "name": "stdout",
          "output_type": "stream",
          "text": [
            "Pure python version: 0.024623099999999454\n",
            "Numpy version: 0.0003355999999996584\n"
          ]
        }
      ],
      "source": [
        "timer_obj1 = Timer(\"pure_python_version()\", \n",
        "                   \"from __main__ import pure_python_version\")\n",
        "timer_obj2 = Timer(\"numpy_version()\", \n",
        "                   \"from __main__ import numpy_version\")\n",
        "\n",
        "print(\"Pure python version:\",timer_obj1.timeit(10))\n",
        "print(\"Numpy version:\",timer_obj2.timeit(10))"
      ]
    },
    {
      "cell_type": "markdown",
      "metadata": {
        "colab_type": "text",
        "id": "XICWRcHEf8z1"
      },
      "source": [
        "As we can see, the vectorized sum approach with `Numpy` is much faster than the purely `Python` based approach."
      ]
    },
    {
      "cell_type": "markdown",
      "metadata": {
        "colab_type": "text",
        "id": "hCAlmr9ff8z2"
      },
      "source": [
        "## 2.Creating `Numpy` array from `Python` list"
      ]
    },
    {
      "cell_type": "markdown",
      "metadata": {
        "colab_type": "text",
        "id": "sb_vLAaof8z4"
      },
      "source": [
        "Let's start by creating a `numpy` array from a predefined list with te values 165, 170, 171, 180, 189, and 178:"
      ]
    },
    {
      "cell_type": "code",
      "execution_count": 5,
      "metadata": {
        "colab": {
          "base_uri": "https://localhost:8080/",
          "height": 51
        },
        "colab_type": "code",
        "id": "kkLxDnnVf8z5",
        "outputId": "357eed58-a1a1-43a0-e7d6-334a04dee815"
      },
      "outputs": [
        {
          "name": "stdout",
          "output_type": "stream",
          "text": [
            "<class 'list'>\n",
            "<class 'numpy.ndarray'>\n"
          ]
        }
      ],
      "source": [
        "heights = [165, 170, 171, 180, 189, 178]\n",
        "print(type(heights))\n",
        "\n",
        "heights_np = np.array(heights)\n",
        "print(type(heights_np))"
      ]
    },
    {
      "cell_type": "markdown",
      "metadata": {
        "colab_type": "text",
        "id": "iUwolQ_-f80D"
      },
      "source": [
        "The type of object defined at first is a `list`. After conversion with the `.array()` function, the object is converted into a `ndarray` object. This means that we have created an array of multiple dimensions (`n` dimensions) from a `list`. In this case, the `numpy` array is a **one-dimensional array**.\n",
        "\n",
        "Now let's see how to create a **two-dimensional array**:"
      ]
    },
    {
      "cell_type": "code",
      "execution_count": 6,
      "metadata": {
        "colab": {
          "base_uri": "https://localhost:8080/",
          "height": 119
        },
        "colab_type": "code",
        "id": "HBRmbMLsf80E",
        "outputId": "abb591c2-ab6a-4301-80da-bb45ec331e91"
      },
      "outputs": [
        {
          "name": "stdout",
          "output_type": "stream",
          "text": [
            "[[50 45 56 78]\n",
            " [78 89 59 90]\n",
            " [89 78 69 70]\n",
            " [67 69 89 70]\n",
            " [90 89 80 84]\n",
            " [89 59 90 78]]\n"
          ]
        }
      ],
      "source": [
        "weights = np.array([[50, 45, 56, 78],[78, 89, 59, 90],[89, 78, 69, 70],[67, 69, 89, 70],[90,89, 80, 84],[89, 59, 90, 78]])\n",
        "print(weights)"
      ]
    },
    {
      "cell_type": "markdown",
      "metadata": {
        "colab_type": "text",
        "id": "duzjeUcif80N"
      },
      "source": [
        "## 3. Exploring some of the key attributes of `ndarray` objects"
      ]
    },
    {
      "cell_type": "markdown",
      "metadata": {
        "colab_type": "text",
        "id": "JyAN5tiCf80O"
      },
      "source": [
        "Multidimensional arrays have the following important attributes:\n",
        "\n",
        "- `ndim`: number of dimensions of the array\n",
        "- `shape`: shape of the array in the format `(number_rows, number_columns)`\n",
        "- `size`: total number of elements\n",
        "- `dtypes`: type of data stored in the array\n",
        "- `strides`: number of bytes that must be moved to store each row and column in memory, in the format `(number_bytes_files, number_bytes_columns)`\n",
        "\n",
        "Let's see an example:"
      ]
    },
    {
      "cell_type": "code",
      "execution_count": 7,
      "metadata": {
        "colab": {},
        "colab_type": "code",
        "id": "TKVMAgWCf80P",
        "outputId": "43b84dbe-ec9a-4e7b-e5ad-355877629d31"
      },
      "outputs": [
        {
          "name": "stdout",
          "output_type": "stream",
          "text": [
            "dimension: 2\n",
            "shape: (6, 4)\n",
            "size: 24\n",
            "dtype: int32\n",
            "strides: (16, 4)\n"
          ]
        }
      ],
      "source": [
        "print(\"dimension:\", weights.ndim)\n",
        "print(\"shape:\", weights.shape)\n",
        "print(\"size:\", weights.size)\n",
        "print(\"dtype:\", weights.dtype)\n",
        "print(\"strides:\", weights.strides)"
      ]
    },
    {
      "cell_type": "markdown",
      "metadata": {
        "colab_type": "text",
        "id": "y-sKcGcGf80W"
      },
      "source": [
        "The exemplified arrangement has:\n",
        "\n",
        "- `ndim` of 2 because it is a two-dimensional array.\n",
        "- `shape` of (6, 4) as it is made up of 6 rows and 4 columns.\n",
        "- `size` of 24 since it has 24 elements in total, 6 elements per column or what is the same, 4 elements per row.\n",
        "- int32 `dtypes` because each element of the array is a 32-bit (4-byte) integer\n",
        "- `strides` of (16, 4) since 16 bytes (4 integers of 4 bytes in the rows) are needed to store each row in memory and 4 bytes (1 integer per column) to store each column in memory."
      ]
    },
    {
      "cell_type": "markdown",
      "metadata": {
        "colab_type": "text",
        "id": "zuBioeTlf80X"
      },
      "source": [
        "## Exercise 1\n",
        "\n",
        "Convert the two-dimensional `ndarray` `weights` into a three-dimensional object without changing its shape."
      ]
    },
    {
      "cell_type": "code",
      "execution_count": 8,
      "metadata": {
        "colab": {},
        "colab_type": "code",
        "id": "7cpZ-m05f80Y"
      },
      "outputs": [],
      "source": [
        "# Answer"
      ]
    },
    {
      "cell_type": "markdown",
      "metadata": {
        "colab_type": "text",
        "id": "L4FLs2Y-f80g"
      },
      "source": [
        "## 4. Exploring some of the key functions defined for `numpy` arrays"
      ]
    },
    {
      "cell_type": "markdown",
      "metadata": {
        "colab_type": "text",
        "id": "4hZBZk5jf80k"
      },
      "source": [
        "In this section we are going to explore some of the most important functions of `numpy` arrays:\n",
        "\n",
        "1. `zeros(shape=(n,m))`: Allows to create a zero-array with the shape (`n` rows, `m` columns)\n",
        "2. `arange(start=i, stop=j, step=u)`: creates a one-dimensional array whose first value is `i` inclusive, last value is `j` exclusive, and each value varies  `s` steps from the previous.\n",
        "3. `linspace(start=i, stop=j, num=n)`: creates a one-dimensional array whose first value is `i` inclusive, last value is `j` inclusive and contains `n` values in total. Each value differs from the previous one with the same magnitude that differs from the next.\n",
        "4. `full(shape=(n,m), fill_value=f)`: Allows to create an array with the shape (`n` rows,` m` columns), where all positions have the value `f`.\n",
        "\n",
        "Let's delve into each of them:"
      ]
    },
    {
      "cell_type": "markdown",
      "metadata": {
        "colab_type": "text",
        "id": "GwLfLSTlf80l"
      },
      "source": [
        "### 4.1. np.zeros()"
      ]
    },
    {
      "cell_type": "markdown",
      "metadata": {
        "colab_type": "text",
        "id": "J-zrQhMSf80q"
      },
      "source": [
        "The `zeros(shape=(n,m), dtypes)` function creates a zero-array with the shape (`n` rows, `m` columns) and data types of `dtypes`:"
      ]
    },
    {
      "cell_type": "code",
      "execution_count": 9,
      "metadata": {
        "colab": {},
        "colab_type": "code",
        "id": "9qRWHkudf80t",
        "outputId": "af69b6fb-589b-4ef2-e133-5a0bf4363eb8"
      },
      "outputs": [
        {
          "name": "stdout",
          "output_type": "stream",
          "text": [
            "[[0 0 0 0 0]\n",
            " [0 0 0 0 0]\n",
            " [0 0 0 0 0]]\n"
          ]
        }
      ],
      "source": [
        "x = np.zeros(shape=(3,5), dtype =\"int32\")\n",
        "print(x)"
      ]
    },
    {
      "cell_type": "markdown",
      "metadata": {
        "colab_type": "text",
        "id": "HPwZ4v9wf800"
      },
      "source": [
        "As you can notice, we have created a two-dimensional array of zeros of three rows and five columns where each element is a 32-bit integer."
      ]
    },
    {
      "cell_type": "markdown",
      "metadata": {
        "colab_type": "text",
        "id": "2-uucNPFf801"
      },
      "source": [
        "### 4.2. np.arange()"
      ]
    },
    {
      "cell_type": "markdown",
      "metadata": {
        "colab_type": "text",
        "id": "QuRU-nFrf802"
      },
      "source": [
        "The `arange(start=i, stop=j, step=u)` function creates a one-dimensional array whose first value is `i` inclusive, last value is `j` exclusive, and each value varies  `s` steps from the previous:"
      ]
    },
    {
      "cell_type": "code",
      "execution_count": 10,
      "metadata": {
        "colab": {},
        "colab_type": "code",
        "id": "l61EVL0mf803",
        "outputId": "512abf98-e851-4984-b6eb-056b135f7db6"
      },
      "outputs": [
        {
          "name": "stdout",
          "output_type": "stream",
          "text": [
            "[100 200 300 400 500 600 700 800 900]\n"
          ]
        }
      ],
      "source": [
        "x = np.arange(start=100, stop=1000, step=100, dtype=\"int32\")\n",
        "print(x)"
      ]
    },
    {
      "cell_type": "markdown",
      "metadata": {
        "colab_type": "text",
        "id": "HDJFZl9df80-"
      },
      "source": [
        "This function has allowed us to create a one-dimensional array that starts at 100, ends at 1000 (exclusive) and progresses from 100 to 100, with 32-bit integer values."
      ]
    },
    {
      "cell_type": "markdown",
      "metadata": {
        "colab_type": "text",
        "id": "cUHAWcogf81A"
      },
      "source": [
        "### 4.3. np.linspace()"
      ]
    },
    {
      "cell_type": "markdown",
      "metadata": {
        "colab_type": "text",
        "id": "k_SPhGvwf81C"
      },
      "source": [
        "The `linspace(start=i, stop=j, num=n)` function creates a one-dimensional array whose first value is `i` inclusive, last value is `j` inclusive and contains `n` values in total. Each value differs from the previous one with the same magnitude that differs from the next. Consider the following example:"
      ]
    },
    {
      "cell_type": "code",
      "execution_count": 11,
      "metadata": {
        "colab": {},
        "colab_type": "code",
        "id": "JrRo0FEBf81D",
        "outputId": "058d89d6-1ee2-45ca-c1ca-9da978cd43f1"
      },
      "outputs": [
        {
          "name": "stdout",
          "output_type": "stream",
          "text": [
            "[10.         11.37931034 12.75862069 14.13793103 15.51724138 16.89655172\n",
            " 18.27586207 19.65517241 21.03448276 22.4137931  23.79310345 25.17241379\n",
            " 26.55172414 27.93103448 29.31034483 30.68965517 32.06896552 33.44827586\n",
            " 34.82758621 36.20689655 37.5862069  38.96551724 40.34482759 41.72413793\n",
            " 43.10344828 44.48275862 45.86206897 47.24137931 48.62068966 50.        ]\n"
          ]
        }
      ],
      "source": [
        "x_lin = np.linspace(start=10, stop=50, num=30)\n",
        "print(x_lin)"
      ]
    },
    {
      "cell_type": "markdown",
      "metadata": {
        "colab_type": "text",
        "id": "IsS-p8Yef81I"
      },
      "source": [
        "We have created a one-dimensional array that varies linearly from 10 to 50 inclusive, for a total of 30 floating numbers."
      ]
    },
    {
      "cell_type": "markdown",
      "metadata": {
        "colab_type": "text",
        "id": "glWK1SmQf81L"
      },
      "source": [
        "### 4.4. np.full()"
      ]
    },
    {
      "cell_type": "markdown",
      "metadata": {
        "colab_type": "text",
        "id": "PTgQ9ldVf81M"
      },
      "source": [
        "The `full(shape=(n,m), fill_value=f)` function allows to create an array with the shape (`n` rows,` m` columns), where all positions have the value `f`."
      ]
    },
    {
      "cell_type": "code",
      "execution_count": 12,
      "metadata": {
        "colab": {},
        "colab_type": "code",
        "id": "Kf31_4HUf81O",
        "outputId": "2e163b41-1819-47e5-cf90-4ff9dca35648"
      },
      "outputs": [
        {
          "name": "stdout",
          "output_type": "stream",
          "text": [
            "[[3 3 3 3 3 3]\n",
            " [3 3 3 3 3 3]\n",
            " [3 3 3 3 3 3]\n",
            " [3 3 3 3 3 3]\n",
            " [3 3 3 3 3 3]]\n"
          ]
        }
      ],
      "source": [
        "x_ful = np.full(shape=(5,6), fill_value=3)\n",
        "print(x_ful)"
      ]
    },
    {
      "cell_type": "markdown",
      "metadata": {
        "colab_type": "text",
        "id": "pHL6OuLlf81X"
      },
      "source": [
        "We see that a two-dimensional array of 5 rows and 6 columns has been created, all with a value of 3 at their positions."
      ]
    },
    {
      "cell_type": "markdown",
      "metadata": {
        "colab_type": "text",
        "id": "8Zzy41d-f81X"
      },
      "source": [
        "## 5. Exploring additional attributes and functions"
      ]
    },
    {
      "cell_type": "markdown",
      "metadata": {
        "colab_type": "text",
        "id": "jhBU9CN8f81a"
      },
      "source": [
        "Let's review three additional functions: `.reshape()`, `.flatten()` and `.ravel()`."
      ]
    },
    {
      "cell_type": "markdown",
      "metadata": {
        "colab_type": "text",
        "id": "IUcJXROuf81e"
      },
      "source": [
        "### 5.1. Reshaping the array"
      ]
    },
    {
      "cell_type": "markdown",
      "metadata": {
        "colab_type": "text",
        "id": "p-hZXH5mf81f"
      },
      "source": [
        "Let's reshape the `weights` numpy array. First take a look to the contant and the shape of `weights`:"
      ]
    },
    {
      "cell_type": "code",
      "execution_count": 13,
      "metadata": {
        "colab": {},
        "colab_type": "code",
        "id": "Uvye9oIxf81g",
        "outputId": "05ca2490-6029-446f-872f-75efc27ed27f"
      },
      "outputs": [
        {
          "data": {
            "text/plain": [
              "array([[50, 45, 56, 78],\n",
              "       [78, 89, 59, 90],\n",
              "       [89, 78, 69, 70],\n",
              "       [67, 69, 89, 70],\n",
              "       [90, 89, 80, 84],\n",
              "       [89, 59, 90, 78]])"
            ]
          },
          "execution_count": 13,
          "metadata": {},
          "output_type": "execute_result"
        }
      ],
      "source": [
        "weights"
      ]
    },
    {
      "cell_type": "code",
      "execution_count": 14,
      "metadata": {
        "colab": {},
        "colab_type": "code",
        "id": "y3uZdhkAf81k",
        "outputId": "6b9f9116-0c08-49ea-9cab-5b10cd5a0914"
      },
      "outputs": [
        {
          "data": {
            "text/plain": [
              "(6, 4)"
            ]
          },
          "execution_count": 14,
          "metadata": {},
          "output_type": "execute_result"
        }
      ],
      "source": [
        "weights.shape"
      ]
    },
    {
      "cell_type": "markdown",
      "metadata": {
        "colab_type": "text",
        "id": "AoGBOHFff81n"
      },
      "source": [
        "The reshaping procedure is done using the `.reshape((n1,m1))` function, which receives as input parameters a tuple of two values `n1` and `m1` that is, the new shape of the array to be created from the original array:"
      ]
    },
    {
      "cell_type": "code",
      "execution_count": 15,
      "metadata": {
        "colab": {},
        "colab_type": "code",
        "id": "XC76Z_pPf81o",
        "outputId": "ae0c057e-5c53-4291-bec0-5ee165efc900"
      },
      "outputs": [
        {
          "data": {
            "text/plain": [
              "array([[50, 45, 56, 78, 78, 89],\n",
              "       [59, 90, 89, 78, 69, 70],\n",
              "       [67, 69, 89, 70, 90, 89],\n",
              "       [80, 84, 89, 59, 90, 78]])"
            ]
          },
          "execution_count": 15,
          "metadata": {},
          "output_type": "execute_result"
        }
      ],
      "source": [
        "weights = weights.reshape((4,6))\n",
        "weights"
      ]
    },
    {
      "cell_type": "code",
      "execution_count": 16,
      "metadata": {
        "colab": {},
        "colab_type": "code",
        "id": "TBIXnjdRf81r",
        "outputId": "c9040b7a-1cb3-4901-f436-80e67332e25e"
      },
      "outputs": [
        {
          "data": {
            "text/plain": [
              "(4, 6)"
            ]
          },
          "execution_count": 16,
          "metadata": {},
          "output_type": "execute_result"
        }
      ],
      "source": [
        "weights.shape"
      ]
    },
    {
      "cell_type": "markdown",
      "metadata": {
        "colab_type": "text",
        "id": "OBHeOcP2f81x"
      },
      "source": [
        "Can you see the difference? We have changed the shape of the `weights` array, from 6 rows and 4 columns, to 4 rows and 6 columns. The way the values are distributed in the new array is from left-to-right then top-to-bottom. \n",
        "\n",
        "Let's add a new dimension through reshaping the current `weights` array:"
      ]
    },
    {
      "cell_type": "code",
      "execution_count": 17,
      "metadata": {
        "colab": {},
        "colab_type": "code",
        "id": "RqjgG-E-f81y",
        "outputId": "587904d5-0c3d-4769-dfa6-f1b19540918d"
      },
      "outputs": [
        {
          "data": {
            "text/plain": [
              "array([[[50, 45],\n",
              "        [56, 78],\n",
              "        [78, 89],\n",
              "        [59, 90],\n",
              "        [89, 78],\n",
              "        [69, 70]],\n",
              "\n",
              "       [[67, 69],\n",
              "        [89, 70],\n",
              "        [90, 89],\n",
              "        [80, 84],\n",
              "        [89, 59],\n",
              "        [90, 78]]])"
            ]
          },
          "execution_count": 17,
          "metadata": {},
          "output_type": "execute_result"
        }
      ],
      "source": [
        "weights = weights.reshape((2,6,2))\n",
        "weights"
      ]
    },
    {
      "cell_type": "code",
      "execution_count": 18,
      "metadata": {
        "colab": {},
        "colab_type": "code",
        "id": "gNbMV0uGf811",
        "outputId": "27a0e2bd-5871-46c4-b9ce-b7403c19449d"
      },
      "outputs": [
        {
          "data": {
            "text/plain": [
              "(2, 6, 2)"
            ]
          },
          "execution_count": 18,
          "metadata": {},
          "output_type": "execute_result"
        }
      ],
      "source": [
        "weights.shape"
      ]
    },
    {
      "cell_type": "markdown",
      "metadata": {
        "colab_type": "text",
        "id": "lijIZHcnf82G"
      },
      "source": [
        "Now, the array is three-dimensionally estructured. Two bi-dimensional (2D) arrays conform the new array, and each of the 2D arrays have two rows and six columns."
      ]
    },
    {
      "cell_type": "markdown",
      "metadata": {
        "colab_type": "text",
        "id": "3UynyX_tf82I"
      },
      "source": [
        "### 5.2. Flattening the array"
      ]
    },
    {
      "cell_type": "markdown",
      "metadata": {
        "colab_type": "text",
        "id": "IJCbQ0_6f82K"
      },
      "source": [
        "The `.flatten()` function returns a copy of an array collapsed into one dimension, no matter how many dimensions the array has. Consider the `weights` two-dimensional array:"
      ]
    },
    {
      "cell_type": "code",
      "execution_count": 19,
      "metadata": {
        "colab": {},
        "colab_type": "code",
        "id": "G5xkP1TQf82L",
        "outputId": "29b1fd7a-d45b-4b55-a163-aad933b8657e"
      },
      "outputs": [
        {
          "data": {
            "text/plain": [
              "array([[[50, 45],\n",
              "        [56, 78],\n",
              "        [78, 89],\n",
              "        [59, 90],\n",
              "        [89, 78],\n",
              "        [69, 70]],\n",
              "\n",
              "       [[67, 69],\n",
              "        [89, 70],\n",
              "        [90, 89],\n",
              "        [80, 84],\n",
              "        [89, 59],\n",
              "        [90, 78]]])"
            ]
          },
          "execution_count": 19,
          "metadata": {},
          "output_type": "execute_result"
        }
      ],
      "source": [
        "weights"
      ]
    },
    {
      "cell_type": "markdown",
      "metadata": {
        "colab_type": "text",
        "id": "Z8EB6PCZf82S"
      },
      "source": [
        "If we flatten the array, we are re-organizing their elements in a one-dimensional array, as follows:"
      ]
    },
    {
      "cell_type": "code",
      "execution_count": 20,
      "metadata": {
        "colab": {},
        "colab_type": "code",
        "id": "-n2o9S9tf82T",
        "outputId": "e1409f5e-7c4f-40d5-ded3-b273071ed764"
      },
      "outputs": [
        {
          "data": {
            "text/plain": [
              "array([50, 45, 56, 78, 78, 89, 59, 90, 89, 78, 69, 70, 67, 69, 89, 70, 90,\n",
              "       89, 80, 84, 89, 59, 90, 78])"
            ]
          },
          "execution_count": 20,
          "metadata": {},
          "output_type": "execute_result"
        }
      ],
      "source": [
        "weights_flattened = weights.flatten()\n",
        "weights_flattened"
      ]
    },
    {
      "cell_type": "markdown",
      "metadata": {
        "colab_type": "text",
        "id": "RjHuCML-f82Z"
      },
      "source": [
        "### 5.3. Raveling the array"
      ]
    },
    {
      "cell_type": "markdown",
      "metadata": {
        "colab_type": "text",
        "id": "7VmmZT4Tf82b"
      },
      "source": [
        "The `.ravel()` function returns a flattened view of an array collapsed into one dimension. It works identically to the `.flatten()` function, although a copy in memory is not achieve, just a flatten view of the final result. \n",
        "\n",
        "Consider the `weights` two-dimensional array:"
      ]
    },
    {
      "cell_type": "code",
      "execution_count": 21,
      "metadata": {
        "colab": {},
        "colab_type": "code",
        "id": "KKKMIGbtf82d"
      },
      "outputs": [],
      "source": [
        "weights_raveld = weights.ravel()"
      ]
    },
    {
      "cell_type": "code",
      "execution_count": 22,
      "metadata": {
        "colab": {},
        "colab_type": "code",
        "id": "BQSBXxMrf82j",
        "outputId": "4fb9104b-2e58-4dd4-dd44-f2933da34a86"
      },
      "outputs": [
        {
          "data": {
            "text/plain": [
              "array([50, 45, 56, 78, 78, 89, 59, 90, 89, 78, 69, 70, 67, 69, 89, 70, 90,\n",
              "       89, 80, 84, 89, 59, 90, 78])"
            ]
          },
          "execution_count": 22,
          "metadata": {},
          "output_type": "execute_result"
        }
      ],
      "source": [
        "weights_raveld"
      ]
    },
    {
      "cell_type": "markdown",
      "metadata": {
        "colab_type": "text",
        "id": "BhMmZu2gf82p"
      },
      "source": [
        "Some key differences between flattening and raveling the array are:\n",
        "- `ravel()` function simply returns a flattened view of Numpy array. If you try to modify this view, you will end up with that same changes in the original array. `flatten()` function returns a flattened copy in memory of the array, so that new changes can be made without affecting the original array.\n",
        "- `ravel()` does not occupy memory, being faster than `flatten()`, which occupies memory when copying the flattened objects."
      ]
    },
    {
      "cell_type": "markdown",
      "metadata": {
        "colab_type": "text",
        "id": "Q4CsNBFlf82q"
      },
      "source": [
        "## Exercise 2\n",
        "\n",
        "Create an array of 51 elements starting at 100 and ending at 500, using the two functions `np.linspace()` and `np.arange()`. Arrays must have the same content, with the names `array_lin` and `array_ara`, respectively. Verify that the arrays have the same content with the `np.array_equal()` function."
      ]
    },
    {
      "cell_type": "code",
      "execution_count": 23,
      "metadata": {
        "colab": {},
        "colab_type": "code",
        "id": "LSn5dk22f82r"
      },
      "outputs": [],
      "source": [
        "# Answer"
      ]
    },
    {
      "cell_type": "markdown",
      "metadata": {
        "colab_type": "text",
        "id": "7dO7jOTAf82z"
      },
      "source": [
        "## 6.Array indexing\n"
      ]
    },
    {
      "cell_type": "markdown",
      "metadata": {
        "colab_type": "text",
        "id": "EfJeld7nf820"
      },
      "source": [
        "To access the content of an array we can use indexing through brackets `[ ]`. When using the brackets, we can access the elements on the list by: \n",
        "1. Using a **positive single index** starting from 0\n",
        "2. Using a **negative single index** starting from -1\n",
        "3. Using **positive index intervals** using the `start:end:step` notation to specify starting and ending values as well as the step.\n",
        "4. Using **negative index intervals** using the `start:end:step` notation to specify negative index starting and ending values as well as the step.\n",
        "\n",
        "Occasionally, we can:\n",
        "- Get ride of the the `step` value as `sart:end`, so that by default we slice the data with a `step` of 1. \n",
        "- Get ride of the `start` value as `:fin:step`, and hence our `start` index will be 0, by default.\n",
        "- Omit the `end` value as `start::step`, specifying the final position as the `end` index by default. \n",
        "- Specify the range as `::step`, and hence the `start` position will be 0 and the end position will be the last one of the array.\n",
        "\n",
        "Let's see how indexing works using the `weights` and `heights_np` arrays:"
      ]
    },
    {
      "cell_type": "code",
      "execution_count": 24,
      "metadata": {
        "colab": {},
        "colab_type": "code",
        "id": "R6RqaHeQf820",
        "outputId": "050eb92e-c0bd-4b97-d696-4ad68d4da9bf"
      },
      "outputs": [
        {
          "data": {
            "text/plain": [
              "array([[[50, 45],\n",
              "        [56, 78],\n",
              "        [78, 89],\n",
              "        [59, 90],\n",
              "        [89, 78],\n",
              "        [69, 70]],\n",
              "\n",
              "       [[67, 69],\n",
              "        [89, 70],\n",
              "        [90, 89],\n",
              "        [80, 84],\n",
              "        [89, 59],\n",
              "        [90, 78]]])"
            ]
          },
          "execution_count": 24,
          "metadata": {},
          "output_type": "execute_result"
        }
      ],
      "source": [
        "weights"
      ]
    },
    {
      "cell_type": "code",
      "execution_count": 25,
      "metadata": {
        "colab": {},
        "colab_type": "code",
        "id": "6it2pxt7f828",
        "outputId": "8644baea-26cc-4ca4-d0e2-ef6d269c9126"
      },
      "outputs": [
        {
          "data": {
            "text/plain": [
              "array([[50, 45, 56, 78],\n",
              "       [78, 89, 59, 90],\n",
              "       [89, 78, 69, 70],\n",
              "       [67, 69, 89, 70],\n",
              "       [90, 89, 80, 84],\n",
              "       [89, 59, 90, 78]])"
            ]
          },
          "execution_count": 25,
          "metadata": {},
          "output_type": "execute_result"
        }
      ],
      "source": [
        "weights_or = weights.reshape((6,4))\n",
        "weights_or"
      ]
    },
    {
      "cell_type": "code",
      "execution_count": 26,
      "metadata": {
        "colab": {},
        "colab_type": "code",
        "id": "m7UcANUTf83D",
        "outputId": "43e03a6d-1e4f-42ca-c2f9-7acc2470bced"
      },
      "outputs": [
        {
          "data": {
            "text/plain": [
              "array([165, 170, 171, 180, 189, 178])"
            ]
          },
          "execution_count": 26,
          "metadata": {},
          "output_type": "execute_result"
        }
      ],
      "source": [
        "heights_np"
      ]
    },
    {
      "cell_type": "markdown",
      "metadata": {
        "colab_type": "text",
        "id": "VTFMFZL5f83I"
      },
      "source": [
        "### 6.1 Using a positive single index"
      ]
    },
    {
      "cell_type": "markdown",
      "metadata": {
        "colab_type": "text",
        "id": "_q3t7JZIf83I"
      },
      "source": [
        "When using positive indexing, it is important to consider the first position of the array to be 0:"
      ]
    },
    {
      "cell_type": "code",
      "execution_count": 27,
      "metadata": {
        "colab": {},
        "colab_type": "code",
        "id": "ZZRGyvCHf83J",
        "outputId": "2ad06621-8754-462b-8561-4cb4f0b81f62",
        "scrolled": true
      },
      "outputs": [
        {
          "name": "stdout",
          "output_type": "stream",
          "text": [
            "Accessing single element in 1D array: 171\n",
            "Accessing single element in 2D array: 90\n"
          ]
        }
      ],
      "source": [
        "print(\"Accessing single element in 1D array:\", heights_np[2])\n",
        "print(\"Accessing single element in 2D array:\", weights_or[1][3])"
      ]
    },
    {
      "cell_type": "code",
      "execution_count": 95,
      "metadata": {
        "colab": {},
        "colab_type": "code",
        "id": "XKXMVpzFf83N",
        "outputId": "1c0871e9-0859-4fec-d0c9-b3eda25b4f8d",
        "scrolled": false
      },
      "outputs": [
        {
          "ename": "IndexError",
          "evalue": "index 7 is out of bounds for axis 0 with size 6",
          "output_type": "error",
          "traceback": [
            "\u001b[1;31m---------------------------------------------------------------------------\u001b[0m",
            "\u001b[1;31mIndexError\u001b[0m                                Traceback (most recent call last)",
            "Cell \u001b[1;32mIn [95], line 1\u001b[0m\n\u001b[1;32m----> 1\u001b[0m heights_np[\u001b[39m7\u001b[39;49m]\n",
            "\u001b[1;31mIndexError\u001b[0m: index 7 is out of bounds for axis 0 with size 6"
          ]
        }
      ],
      "source": [
        "heights_np[7]"
      ]
    },
    {
      "cell_type": "markdown",
      "metadata": {
        "colab_type": "text",
        "id": "M_49bH1Ff83T"
      },
      "source": [
        "**Why are we getting this error message?**\n",
        "\n",
        "Well guessed! It is because position 7 does not exist in the `heights_np` array, it is totally out of the bounds defined by the array's shape and size. The array has 6 elements, the last element being in position 5."
      ]
    },
    {
      "cell_type": "markdown",
      "metadata": {
        "colab_type": "text",
        "id": "rNyg6F4Rf83U"
      },
      "source": [
        "### 6.2 Using a negative single index starting"
      ]
    },
    {
      "cell_type": "markdown",
      "metadata": {
        "colab_type": "text",
        "id": "Lko0mS4tf83V"
      },
      "source": [
        "When using negative indexing, it is important to consider the last position of the array to be -1:"
      ]
    },
    {
      "cell_type": "code",
      "execution_count": 33,
      "metadata": {
        "colab": {},
        "colab_type": "code",
        "id": "_N3rC53qf83V",
        "outputId": "1431593b-6daa-4053-b995-79fedc737e4c",
        "scrolled": true
      },
      "outputs": [
        {
          "name": "stdout",
          "output_type": "stream",
          "text": [
            "Accessing single element in 1D array: 171\n",
            "Accessing single element in 2D array: 90\n"
          ]
        }
      ],
      "source": [
        "print(\"Accessing single element in 1D array:\", heights_np[-4])\n",
        "print(\"Accessing single element in 2D array:\", weights_or[-5][-1])"
      ]
    },
    {
      "cell_type": "code",
      "execution_count": 96,
      "metadata": {
        "colab": {},
        "colab_type": "code",
        "id": "azkGg-arf83d",
        "outputId": "7cccdad9-4c4c-4041-fd01-70576d11b77e",
        "scrolled": true
      },
      "outputs": [
        {
          "ename": "IndexError",
          "evalue": "index -8 is out of bounds for axis 0 with size 6",
          "output_type": "error",
          "traceback": [
            "\u001b[1;31m---------------------------------------------------------------------------\u001b[0m",
            "\u001b[1;31mIndexError\u001b[0m                                Traceback (most recent call last)",
            "Cell \u001b[1;32mIn [96], line 1\u001b[0m\n\u001b[1;32m----> 1\u001b[0m heights_np[\u001b[39m-\u001b[39;49m\u001b[39m8\u001b[39;49m]\n",
            "\u001b[1;31mIndexError\u001b[0m: index -8 is out of bounds for axis 0 with size 6"
          ]
        }
      ],
      "source": [
        "heights_np[-8]"
      ]
    },
    {
      "cell_type": "markdown",
      "metadata": {
        "colab_type": "text",
        "id": "LD9Pb-nIf83j"
      },
      "source": [
        "**Why are we getting this error message again?**\n",
        "\n",
        "Well guessed! It is because position -8 does not exist in the `heights_np` array, it is totally out of the bounds defined by the array's shape and size. The array has 6 elements, the last element being in position -1 and the first element being in position -6."
      ]
    },
    {
      "cell_type": "markdown",
      "metadata": {
        "colab_type": "text",
        "id": "F1c5rQ_ef83k"
      },
      "source": [
        "### 6.3 Using positive index intervals"
      ]
    },
    {
      "cell_type": "markdown",
      "metadata": {
        "colab_type": "text",
        "id": "kXaJXj4zf83m"
      },
      "source": [
        "When using positive interval indexing `start:end:step`, the starting value is inclusive and the ending value is exlusive. Here are somoe examples:"
      ]
    },
    {
      "cell_type": "code",
      "execution_count": 97,
      "metadata": {
        "colab": {},
        "colab_type": "code",
        "id": "hCsVNSyyf83n",
        "outputId": "b08405e7-e263-4a78-d1ec-eeb04be06cc1"
      },
      "outputs": [
        {
          "data": {
            "text/plain": [
              "array([[165],\n",
              "       [170]])"
            ]
          },
          "execution_count": 97,
          "metadata": {},
          "output_type": "execute_result"
        }
      ],
      "source": [
        "heights_np[:2] # The default start value is 0"
      ]
    },
    {
      "cell_type": "code",
      "execution_count": 37,
      "metadata": {
        "colab": {},
        "colab_type": "code",
        "id": "YFgC96dqf83z",
        "outputId": "ebf8d120-e588-4470-bbf1-3e7cb4d9e7ba"
      },
      "outputs": [
        {
          "data": {
            "text/plain": [
              "array([171, 180, 189, 178])"
            ]
          },
          "execution_count": 37,
          "metadata": {},
          "output_type": "execute_result"
        }
      ],
      "source": [
        "heights_np[2:] # The default end value is the last value of the array"
      ]
    },
    {
      "cell_type": "code",
      "execution_count": 38,
      "metadata": {
        "colab": {},
        "colab_type": "code",
        "id": "EGOLN-51f836",
        "outputId": "2c89e03f-4439-45e7-df14-8ede84317017"
      },
      "outputs": [
        {
          "data": {
            "text/plain": [
              "array([171])"
            ]
          },
          "execution_count": 38,
          "metadata": {},
          "output_type": "execute_result"
        }
      ],
      "source": [
        "heights_np[2:3] # The ending value is exlusive"
      ]
    },
    {
      "cell_type": "code",
      "execution_count": 39,
      "metadata": {
        "colab": {},
        "colab_type": "code",
        "id": "0ZwwWaqaf84A",
        "outputId": "6406c4a5-3348-482c-b3e7-9e818a6ec2dd"
      },
      "outputs": [
        {
          "data": {
            "text/plain": [
              "array([[[50, 45],\n",
              "        [78, 89],\n",
              "        [89, 78]],\n",
              "\n",
              "       [[67, 69],\n",
              "        [90, 89],\n",
              "        [89, 59]]])"
            ]
          },
          "execution_count": 39,
          "metadata": {},
          "output_type": "execute_result"
        }
      ],
      "source": [
        "weights[:2, ::2]"
      ]
    },
    {
      "cell_type": "code",
      "execution_count": 40,
      "metadata": {
        "colab": {},
        "colab_type": "code",
        "id": "fR-sTpfxf84F",
        "outputId": "cdec3a69-b76a-47a8-c2ca-421fbb84e8eb"
      },
      "outputs": [
        {
          "data": {
            "text/plain": [
              "array([[[59, 90],\n",
              "        [89, 78],\n",
              "        [69, 70]],\n",
              "\n",
              "       [[80, 84],\n",
              "        [89, 59],\n",
              "        [90, 78]]])"
            ]
          },
          "execution_count": 40,
          "metadata": {},
          "output_type": "execute_result"
        }
      ],
      "source": [
        "weights[:3, 3::]"
      ]
    },
    {
      "cell_type": "code",
      "execution_count": 41,
      "metadata": {
        "colab": {},
        "colab_type": "code",
        "id": "y0ln4GDSf84L",
        "outputId": "3c9d2d49-cb71-48a1-bee5-a85ab44d796d"
      },
      "outputs": [
        {
          "data": {
            "text/plain": [
              "array([[[50],\n",
              "        [56],\n",
              "        [78]],\n",
              "\n",
              "       [[67],\n",
              "        [89],\n",
              "        [90]]])"
            ]
          },
          "execution_count": 41,
          "metadata": {},
          "output_type": "execute_result"
        }
      ],
      "source": [
        "weights[:3, :3, :1]"
      ]
    },
    {
      "cell_type": "markdown",
      "metadata": {
        "colab_type": "text",
        "id": "MKctH8ahf84O"
      },
      "source": [
        "### 6.4 Using negative index intervals"
      ]
    },
    {
      "cell_type": "markdown",
      "metadata": {
        "colab_type": "text",
        "id": "0YDVe-Xbf84P"
      },
      "source": [
        "When using positive interval indexing `start:end:step`, the negative starting value is inclusive and the negative ending value is exlusive. Here are somoe examples:"
      ]
    },
    {
      "cell_type": "code",
      "execution_count": 42,
      "metadata": {
        "colab": {},
        "colab_type": "code",
        "id": "oq8ENq2qf84Q",
        "outputId": "6178ef4b-0be8-4108-e49e-ae2f18edf592"
      },
      "outputs": [
        {
          "data": {
            "text/plain": [
              "array([165, 170])"
            ]
          },
          "execution_count": 42,
          "metadata": {},
          "output_type": "execute_result"
        }
      ],
      "source": [
        "heights_np[:-4] # Equivalent to heights_np[:2]"
      ]
    },
    {
      "cell_type": "code",
      "execution_count": 43,
      "metadata": {
        "colab": {},
        "colab_type": "code",
        "id": "O-8PkOlnf84U",
        "outputId": "dfcd0cb5-08b5-4d98-948b-03271b78a960"
      },
      "outputs": [
        {
          "data": {
            "text/plain": [
              "array([171, 180, 189, 178])"
            ]
          },
          "execution_count": 43,
          "metadata": {},
          "output_type": "execute_result"
        }
      ],
      "source": [
        "heights_np[-4:] # Equivalent to heights_np[2:]"
      ]
    },
    {
      "cell_type": "code",
      "execution_count": 44,
      "metadata": {
        "colab": {},
        "colab_type": "code",
        "id": "xZlV59E7f84a",
        "outputId": "47c900ad-61c7-4d79-95b9-ca4e4246116a"
      },
      "outputs": [
        {
          "data": {
            "text/plain": [
              "array([171])"
            ]
          },
          "execution_count": 44,
          "metadata": {},
          "output_type": "execute_result"
        }
      ],
      "source": [
        "heights_np[-4:-3] # Equivalent to heights_np[2:3]"
      ]
    },
    {
      "cell_type": "code",
      "execution_count": 45,
      "metadata": {
        "colab": {},
        "colab_type": "code",
        "id": "nTNK-4kCf84f",
        "outputId": "216ee7ef-cb80-4f79-d8ea-212ae41ea4d9"
      },
      "outputs": [
        {
          "data": {
            "text/plain": [
              "array([[[59, 90],\n",
              "        [89, 78],\n",
              "        [69, 70]],\n",
              "\n",
              "       [[80, 84],\n",
              "        [89, 59],\n",
              "        [90, 78]]])"
            ]
          },
          "execution_count": 45,
          "metadata": {},
          "output_type": "execute_result"
        }
      ],
      "source": [
        "weights[:2, -3::] # Equivalent to weights[:3, 3::]"
      ]
    },
    {
      "cell_type": "code",
      "execution_count": 46,
      "metadata": {
        "colab": {},
        "colab_type": "code",
        "id": "B5BrubFYf84n",
        "outputId": "2fab3a31-2110-42ad-b325-fd082690c39a",
        "scrolled": true
      },
      "outputs": [
        {
          "data": {
            "text/plain": [
              "array([[[50],\n",
              "        [56],\n",
              "        [78]],\n",
              "\n",
              "       [[67],\n",
              "        [89],\n",
              "        [90]]])"
            ]
          },
          "execution_count": 46,
          "metadata": {},
          "output_type": "execute_result"
        }
      ],
      "source": [
        "weights[:3, :-3, :-1] # Equivalent to weights[:3, :3, :1]"
      ]
    },
    {
      "cell_type": "markdown",
      "metadata": {
        "colab_type": "text",
        "id": "XQrlx6_sf84s"
      },
      "source": [
        "## Exercise 3\n",
        "\n",
        "Consider the `weights_or` array:\n",
        "\n",
        "1. Select all the values that are in the even positions in the rows and in the odd positions in the columns. Create a new array named `weights_custom1` with these values.\n",
        "2. Express the `weights_custom1` array flattened with an in-memory copy. Call the new array `weights_custom2`.\n",
        "3. Select items in positions 2 to 4 inclusive with negative indexing. Name the output array as `weights_custom3`."
      ]
    },
    {
      "cell_type": "code",
      "execution_count": 106,
      "metadata": {
        "colab": {},
        "colab_type": "code",
        "id": "LDS6TnWAf84t"
      },
      "outputs": [
        {
          "name": "stdout",
          "output_type": "stream",
          "text": [
            "[[50 45 56 78]\n",
            " [78 89 59 90]\n",
            " [89 78 69 70]\n",
            " [67 69 89 70]\n",
            " [90 89 80 84]\n",
            " [89 59 90 78]]\n"
          ]
        },
        {
          "data": {
            "text/plain": [
              "array([50, 45, 56, 78, 89, 90, 89, 78, 69, 70, 69, 70, 90, 89, 80, 84, 59,\n",
              "       78])"
            ]
          },
          "execution_count": 106,
          "metadata": {},
          "output_type": "execute_result"
        }
      ],
      "source": [
        "# Answer #1\n",
        "print(weights_or)\n",
        "weights_custom1 = []\n",
        "[i,j] = weights_or.shape\n",
        "for n in range(i):\n",
        "    for w in range(j):\n",
        "        if n%2 == 0:\n",
        "            weights_custom1.append(weights_or[n,w])\n",
        "        elif w%2 != 0:\n",
        "            weights_custom1.append(weights_or[n,w])\n",
        "weights_custom1 = np.array(weights_custom1)\n",
        "weights_custom1"
      ]
    },
    {
      "cell_type": "code",
      "execution_count": 107,
      "metadata": {
        "colab": {},
        "colab_type": "code",
        "id": "_EKlk8_cf848"
      },
      "outputs": [
        {
          "data": {
            "text/plain": [
              "array([50, 45, 56, 78, 89, 90, 89, 78, 69, 70, 69, 70, 90, 89, 80, 84, 59,\n",
              "       78])"
            ]
          },
          "execution_count": 107,
          "metadata": {},
          "output_type": "execute_result"
        }
      ],
      "source": [
        "# Answer #2\n",
        "weights_custom2 = weights_custom1.flatten()\n",
        "weights_custom2"
      ]
    },
    {
      "cell_type": "code",
      "execution_count": 109,
      "metadata": {
        "colab": {},
        "colab_type": "code",
        "id": "HyZRw1rUf85C"
      },
      "outputs": [
        {
          "data": {
            "text/plain": [
              "array([56, 78, 89, 90])"
            ]
          },
          "execution_count": 109,
          "metadata": {},
          "output_type": "execute_result"
        }
      ],
      "source": [
        "# Answer #3\n",
        "weights_custom3 = weights_custom2[-16:-12]\n",
        "weights_custom3"
      ]
    },
    {
      "cell_type": "markdown",
      "metadata": {
        "colab_type": "text",
        "id": "4fQJHzwsf85n"
      },
      "source": [
        "## 7.Manipulating `Numpy` arrays\n"
      ]
    },
    {
      "cell_type": "markdown",
      "metadata": {
        "colab_type": "text",
        "id": "9WGWmaLZf85p"
      },
      "source": [
        "Arrays can be manipulated using arithmetic, logical, or relational operations in an element-wise way. Let's see how these operations are applied, using our arrays `weights_or`, `heights_np`, and and some other arrays that we will create."
      ]
    },
    {
      "cell_type": "markdown",
      "metadata": {
        "colab_type": "text",
        "id": "5mza7Wgaf85v"
      },
      "source": [
        "### 7.1. Arithmetic operations"
      ]
    },
    {
      "cell_type": "markdown",
      "metadata": {
        "colab_type": "text",
        "id": "ElxXQWhPf85w"
      },
      "source": [
        "We are going to operate the content of the arrays with the four traditional arithmetic operations, addition, subtraction, product, and division. Let's first define our arrays again:"
      ]
    },
    {
      "cell_type": "code",
      "execution_count": 50,
      "metadata": {
        "colab": {},
        "colab_type": "code",
        "id": "lxJON3TPf85x",
        "outputId": "1f918011-f70c-42f4-daca-b860f3a9b83e"
      },
      "outputs": [
        {
          "data": {
            "text/plain": [
              "array([[50, 45, 56, 78],\n",
              "       [78, 89, 59, 90],\n",
              "       [89, 78, 69, 70],\n",
              "       [67, 69, 89, 70],\n",
              "       [90, 89, 80, 84],\n",
              "       [89, 59, 90, 78]])"
            ]
          },
          "execution_count": 50,
          "metadata": {},
          "output_type": "execute_result"
        }
      ],
      "source": [
        "weights_or"
      ]
    },
    {
      "cell_type": "code",
      "execution_count": 51,
      "metadata": {
        "colab": {},
        "colab_type": "code",
        "id": "Y7BUpy43f858",
        "outputId": "ad2f03cc-3173-4c30-d527-5d05265dad2a"
      },
      "outputs": [
        {
          "name": "stdout",
          "output_type": "stream",
          "text": [
            "heights_np: [165 170 171 180 189 178]\n",
            "heights_2:  [165 175 180 189 187 186]\n"
          ]
        }
      ],
      "source": [
        "heights_2 = np.array([165, 175, 180, 189, 187, 186])\n",
        "print('heights_np:', heights_np) \n",
        "print('heights_2: ', heights_2)"
      ]
    },
    {
      "cell_type": "markdown",
      "metadata": {
        "colab_type": "text",
        "id": "pDtrCG6Nf86B"
      },
      "source": [
        "Let's add the content of the two arrays element-wise:"
      ]
    },
    {
      "cell_type": "code",
      "execution_count": 52,
      "metadata": {
        "colab": {},
        "colab_type": "code",
        "id": "zEqt6dsXf86C",
        "outputId": "9cb9a64b-60ec-4d8b-ec23-e1ec477140f8"
      },
      "outputs": [
        {
          "data": {
            "text/plain": [
              "array([330, 345, 351, 369, 376, 364])"
            ]
          },
          "execution_count": 52,
          "metadata": {},
          "output_type": "execute_result"
        }
      ],
      "source": [
        "heights_add = heights_np + heights_2\n",
        "heights_add"
      ]
    },
    {
      "cell_type": "markdown",
      "metadata": {
        "colab_type": "text",
        "id": "uGovxy2Lf86O"
      },
      "source": [
        "The `np.add()` function allows adding the content of arrays element-wise:"
      ]
    },
    {
      "cell_type": "code",
      "execution_count": 53,
      "metadata": {
        "colab": {},
        "colab_type": "code",
        "id": "M52rnmGcf86P",
        "outputId": "a2930bc3-5cdd-4d2c-c337-18df86cd52cc"
      },
      "outputs": [
        {
          "data": {
            "text/plain": [
              "array([330, 345, 351, 369, 376, 364])"
            ]
          },
          "execution_count": 53,
          "metadata": {},
          "output_type": "execute_result"
        }
      ],
      "source": [
        "added = np.add(heights_2, heights_np)\n",
        "added"
      ]
    },
    {
      "cell_type": "markdown",
      "metadata": {
        "colab_type": "text",
        "id": "cxq-GcGNf86X"
      },
      "source": [
        "## Exercise 4\n",
        "\n",
        "Since we have seen how to add element-wise elements of one-dimensional arrays:\n",
        "1. Calculate the subtraction, multiplication and division between the `heights_np` and `heights_2` arrays. Compare the results by using the functions: `np.subtract()`, `np.multiply()`, and `np.divide()`.\n",
        "2. Calculate the product element-wise of the multiplicative inverses ($1/x$) between the arrays `heights_np` and `heights_2`, using numpy functions. For instante, if an element in `heights_np` $x1=5$ and an element in `heights_2` $y1=4$, then the result should be $z=(1/x1)*(1/y1)=1/20=0.05$."
      ]
    },
    {
      "cell_type": "code",
      "execution_count": 114,
      "metadata": {
        "colab": {},
        "colab_type": "code",
        "id": "IVlcdzS2f86Z"
      },
      "outputs": [
        {
          "name": "stdout",
          "output_type": "stream",
          "text": [
            "[[  0 -10 -15 -24 -22 -21]\n",
            " [  5  -5 -10 -19 -17 -16]\n",
            " [  6  -4  -9 -18 -16 -15]\n",
            " [ 15   5   0  -9  -7  -6]\n",
            " [ 24  14   9   0   2   3]\n",
            " [ 13   3  -2 -11  -9  -8]]\n",
            "[[  0 -10 -15 -24 -22 -21]\n",
            " [  5  -5 -10 -19 -17 -16]\n",
            " [  6  -4  -9 -18 -16 -15]\n",
            " [ 15   5   0  -9  -7  -6]\n",
            " [ 24  14   9   0   2   3]\n",
            " [ 13   3  -2 -11  -9  -8]]\n"
          ]
        }
      ],
      "source": [
        "# Answer substraction\n",
        "heights_r = heights_np - heights_2\n",
        "print(heights_r)\n",
        "heights_s = np.subtract(heights_np,heights_2)\n",
        "print(heights_s)"
      ]
    },
    {
      "cell_type": "code",
      "execution_count": 115,
      "metadata": {
        "colab": {},
        "colab_type": "code",
        "id": "OnMnWaHYf86i"
      },
      "outputs": [
        {
          "name": "stdout",
          "output_type": "stream",
          "text": [
            "[[27225 28875 29700 31185 30855 30690]\n",
            " [28050 29750 30600 32130 31790 31620]\n",
            " [28215 29925 30780 32319 31977 31806]\n",
            " [29700 31500 32400 34020 33660 33480]\n",
            " [31185 33075 34020 35721 35343 35154]\n",
            " [29370 31150 32040 33642 33286 33108]]\n",
            "[[27225 28875 29700 31185 30855 30690]\n",
            " [28050 29750 30600 32130 31790 31620]\n",
            " [28215 29925 30780 32319 31977 31806]\n",
            " [29700 31500 32400 34020 33660 33480]\n",
            " [31185 33075 34020 35721 35343 35154]\n",
            " [29370 31150 32040 33642 33286 33108]]\n"
          ]
        }
      ],
      "source": [
        "# Answer multiplication\n",
        "heights_r2 = heights_np * heights_2\n",
        "print(heights_r2)\n",
        "heights_m = np.multiply(heights_np,heights_2)\n",
        "print(heights_m)"
      ]
    },
    {
      "cell_type": "code",
      "execution_count": 116,
      "metadata": {
        "colab": {},
        "colab_type": "code",
        "id": "odwi7RKWf86p"
      },
      "outputs": [
        {
          "name": "stdout",
          "output_type": "stream",
          "text": [
            "[[1.         0.94285714 0.91666667 0.87301587 0.88235294 0.88709677]\n",
            " [1.03030303 0.97142857 0.94444444 0.8994709  0.90909091 0.91397849]\n",
            " [1.03636364 0.97714286 0.95       0.9047619  0.9144385  0.91935484]\n",
            " [1.09090909 1.02857143 1.         0.95238095 0.96256684 0.96774194]\n",
            " [1.14545455 1.08       1.05       1.         1.01069519 1.01612903]\n",
            " [1.07878788 1.01714286 0.98888889 0.94179894 0.95187166 0.95698925]]\n",
            "[[1.         0.94285714 0.91666667 0.87301587 0.88235294 0.88709677]\n",
            " [1.03030303 0.97142857 0.94444444 0.8994709  0.90909091 0.91397849]\n",
            " [1.03636364 0.97714286 0.95       0.9047619  0.9144385  0.91935484]\n",
            " [1.09090909 1.02857143 1.         0.95238095 0.96256684 0.96774194]\n",
            " [1.14545455 1.08       1.05       1.         1.01069519 1.01612903]\n",
            " [1.07878788 1.01714286 0.98888889 0.94179894 0.95187166 0.95698925]]\n"
          ]
        }
      ],
      "source": [
        "# Answer division\n",
        "heights_r3 = heights_np / heights_2\n",
        "print(heights_r3)\n",
        "heights_d = np.divide(heights_np,heights_2)\n",
        "print(heights_d)"
      ]
    },
    {
      "cell_type": "code",
      "execution_count": 117,
      "metadata": {
        "colab": {},
        "colab_type": "code",
        "id": "zxpXd64Pf86t"
      },
      "outputs": [
        {
          "name": "stdout",
          "output_type": "stream",
          "text": [
            "[[3.67309458e-05 3.46320346e-05 3.36700337e-05 3.20666987e-05\n",
            "  3.24096581e-05 3.25839036e-05]\n",
            " [3.56506239e-05 3.36134454e-05 3.26797386e-05 3.11235605e-05\n",
            "  3.14564328e-05 3.16255534e-05]\n",
            " [3.54421407e-05 3.34168755e-05 3.24886290e-05 3.09415514e-05\n",
            "  3.12724771e-05 3.14406087e-05]\n",
            " [3.36700337e-05 3.17460317e-05 3.08641975e-05 2.93944738e-05\n",
            "  2.97088532e-05 2.98685783e-05]\n",
            " [3.20666987e-05 3.02343159e-05 2.93944738e-05 2.79947370e-05\n",
            "  2.82941459e-05 2.84462650e-05]\n",
            " [3.40483487e-05 3.21027287e-05 3.12109863e-05 2.97247488e-05\n",
            "  3.00426606e-05 3.02041803e-05]]\n",
            "[[3.67309458e-05 3.46320346e-05 3.36700337e-05 3.20666987e-05\n",
            "  3.24096581e-05 3.25839036e-05]\n",
            " [3.56506239e-05 3.36134454e-05 3.26797386e-05 3.11235605e-05\n",
            "  3.14564328e-05 3.16255534e-05]\n",
            " [3.54421407e-05 3.34168755e-05 3.24886290e-05 3.09415514e-05\n",
            "  3.12724771e-05 3.14406087e-05]\n",
            " [3.36700337e-05 3.17460317e-05 3.08641975e-05 2.93944738e-05\n",
            "  2.97088532e-05 2.98685783e-05]\n",
            " [3.20666987e-05 3.02343159e-05 2.93944738e-05 2.79947370e-05\n",
            "  2.82941459e-05 2.84462650e-05]\n",
            " [3.40483487e-05 3.21027287e-05 3.12109863e-05 2.97247488e-05\n",
            "  3.00426606e-05 3.02041803e-05]]\n"
          ]
        }
      ],
      "source": [
        "# Answer multiplicative inverse\n",
        "heights_f = 1/heights_np\n",
        "heights_g = 1/heights_2\n",
        "heights_res = heights_f*heights_g\n",
        "print(heights_res)\n",
        "heights_f2 = np.divide(1,heights_np)\n",
        "heights_g2 = np.divide(1,heights_2)\n",
        "heights_res2 = np.multiply(heights_f,heights_g)\n",
        "print(heights_res2)"
      ]
    },
    {
      "cell_type": "markdown",
      "metadata": {
        "colab_type": "text",
        "id": "4IZrRPhaf86z"
      },
      "source": [
        "### 7.2. Logical operations"
      ]
    },
    {
      "cell_type": "markdown",
      "metadata": {
        "colab_type": "text",
        "id": "2GMYJb9tf86z"
      },
      "source": [
        "Logical operations are mathematical expressions whose result is a Boolean value of 0 (False) or 1 (True). Among the most common logical operations are the disjunction `or`, conjunction `and`, and negation `not`operations, among others. Let's see an example:"
      ]
    },
    {
      "cell_type": "code",
      "execution_count": 58,
      "metadata": {
        "colab": {},
        "colab_type": "code",
        "id": "73iJ3Fa-f861"
      },
      "outputs": [],
      "source": [
        "x = np.array([True, True, False, False])\n",
        "y = np.array([True, False, True, False])"
      ]
    },
    {
      "cell_type": "code",
      "execution_count": 59,
      "metadata": {
        "colab": {},
        "colab_type": "code",
        "id": "twei5wfUf865",
        "outputId": "56be3b0e-f101-487a-d993-2c1d6707708b"
      },
      "outputs": [
        {
          "data": {
            "text/plain": [
              "array([ True,  True,  True, False])"
            ]
          },
          "execution_count": 59,
          "metadata": {},
          "output_type": "execute_result"
        }
      ],
      "source": [
        "np.logical_or(x,y)"
      ]
    },
    {
      "cell_type": "code",
      "execution_count": 60,
      "metadata": {
        "colab": {},
        "colab_type": "code",
        "id": "s3CAf5OAf869",
        "outputId": "616c1bec-5708-4262-914e-001005304057"
      },
      "outputs": [
        {
          "data": {
            "text/plain": [
              "array([ True, False, False, False])"
            ]
          },
          "execution_count": 60,
          "metadata": {},
          "output_type": "execute_result"
        }
      ],
      "source": [
        "np.logical_and(x,y)"
      ]
    },
    {
      "cell_type": "code",
      "execution_count": 61,
      "metadata": {
        "colab": {},
        "colab_type": "code",
        "id": "R1xywrYjf87C",
        "outputId": "6e5d7854-3973-4b01-b1ee-18f6c56f1cf0"
      },
      "outputs": [
        {
          "data": {
            "text/plain": [
              "array([False, False,  True,  True])"
            ]
          },
          "execution_count": 61,
          "metadata": {},
          "output_type": "execute_result"
        }
      ],
      "source": [
        "np.logical_not(x)"
      ]
    },
    {
      "cell_type": "markdown",
      "metadata": {
        "colab_type": "text",
        "id": "eEOFfrmhf87E"
      },
      "source": [
        "### 7.3.Comparison - Relational operators"
      ]
    },
    {
      "cell_type": "markdown",
      "metadata": {
        "colab_type": "text",
        "id": "3MfycNFPf87F"
      },
      "source": [
        "The comparison operators allow us to compare the values of the content of `numpy` arrays element-wise. Some operators of interest (a) equality operator `np.equal()`, (b) less than operator `np.less()`/`np.less_equal()`, (c) greater than operator `np.greater()`/`np.greater_equal()`, and (d) difference operator `np.not_equal()`. It is important to note that the output will always be Boolean 0 (False) or 1 (True).\n",
        "\n",
        "Let's see some examples:"
      ]
    },
    {
      "cell_type": "code",
      "execution_count": 62,
      "metadata": {
        "colab": {},
        "colab_type": "code",
        "id": "tkVsUowMf87F"
      },
      "outputs": [],
      "source": [
        "x = np.array([1, 8, 3, 7, 3, 21])\n",
        "y = np.array([4, 8, 1, 7, 6, 9])"
      ]
    },
    {
      "cell_type": "code",
      "execution_count": 63,
      "metadata": {
        "colab": {},
        "colab_type": "code",
        "id": "xUtFfWvrf87H",
        "outputId": "8b237df8-63bb-4b47-938f-a65dc61fe2ad"
      },
      "outputs": [
        {
          "data": {
            "text/plain": [
              "array([False,  True, False,  True, False, False])"
            ]
          },
          "execution_count": 63,
          "metadata": {},
          "output_type": "execute_result"
        }
      ],
      "source": [
        "np.equal(x,y)"
      ]
    },
    {
      "cell_type": "code",
      "execution_count": 64,
      "metadata": {
        "colab": {},
        "colab_type": "code",
        "id": "uRXU49WWf87K",
        "outputId": "28f9b2fb-04cc-447f-ddba-9fb6989b087b"
      },
      "outputs": [
        {
          "data": {
            "text/plain": [
              "array([ True, False,  True, False,  True,  True])"
            ]
          },
          "execution_count": 64,
          "metadata": {},
          "output_type": "execute_result"
        }
      ],
      "source": [
        "np.not_equal(x,y)"
      ]
    },
    {
      "cell_type": "code",
      "execution_count": 65,
      "metadata": {
        "colab": {},
        "colab_type": "code",
        "id": "Q3WKZKrBf87U",
        "outputId": "b69a5dc4-fb59-41f6-f5b2-e44a4c262650"
      },
      "outputs": [
        {
          "data": {
            "text/plain": [
              "array([ True,  True, False,  True,  True, False])"
            ]
          },
          "execution_count": 65,
          "metadata": {},
          "output_type": "execute_result"
        }
      ],
      "source": [
        "np.less_equal(x,y)"
      ]
    },
    {
      "cell_type": "code",
      "execution_count": 66,
      "metadata": {
        "colab": {},
        "colab_type": "code",
        "id": "kY5zDfGcf87Y",
        "outputId": "1e92b8d6-611b-4d25-bb9a-325ecc9edc2b"
      },
      "outputs": [
        {
          "data": {
            "text/plain": [
              "array([False,  True,  True,  True, False,  True])"
            ]
          },
          "execution_count": 66,
          "metadata": {},
          "output_type": "execute_result"
        }
      ],
      "source": [
        "np.greater_equal(x,y)"
      ]
    },
    {
      "cell_type": "code",
      "execution_count": 67,
      "metadata": {
        "colab": {},
        "colab_type": "code",
        "id": "bD8ekMQdf87d",
        "outputId": "35b0f4ac-bb60-4673-e22e-efe42061a8f8"
      },
      "outputs": [
        {
          "data": {
            "text/plain": [
              "False"
            ]
          },
          "execution_count": 67,
          "metadata": {},
          "output_type": "execute_result"
        }
      ],
      "source": [
        "np.array_equal(x,y) # Comparing the entire content of both arrays"
      ]
    },
    {
      "cell_type": "code",
      "execution_count": 68,
      "metadata": {
        "colab": {},
        "colab_type": "code",
        "id": "H5HM9fzkf87h",
        "outputId": "5e3ad8e6-8b00-435f-a987-07d445f9aa1a"
      },
      "outputs": [
        {
          "data": {
            "text/plain": [
              "True"
            ]
          },
          "execution_count": 68,
          "metadata": {},
          "output_type": "execute_result"
        }
      ],
      "source": [
        "x = np.array([1, 8, 3, 7, 3, 21])\n",
        "y = np.array(list((1, 8, 3, 7, 3, 21)))\n",
        "np.array_equal(x,y) # Comparing the entire content of both arrays"
      ]
    },
    {
      "cell_type": "markdown",
      "metadata": {
        "colab_type": "text",
        "id": "fLS5wApRf87o"
      },
      "source": [
        "## 8. Broadcasting"
      ]
    },
    {
      "cell_type": "markdown",
      "metadata": {
        "colab_type": "text",
        "id": "-Vc5-Jnnf87o"
      },
      "source": [
        "`numpy` has the ability of operating arrays of different shapes during arithmetic operations using **broadcasting**, so that arithmetic operations on arrays are done on corresponding elements. The boradcasting operation replicates one of the arrays along the dimensions the other, if there is a mismatch of shapes. Consider the following arrays:"
      ]
    },
    {
      "cell_type": "code",
      "execution_count": 69,
      "metadata": {
        "colab": {},
        "colab_type": "code",
        "id": "fgXXgRfWf87p",
        "outputId": "cff0f376-d14d-464b-937d-89d83a7cbe2b"
      },
      "outputs": [
        {
          "data": {
            "text/plain": [
              "array([[165],\n",
              "       [170],\n",
              "       [171],\n",
              "       [180],\n",
              "       [189],\n",
              "       [178]])"
            ]
          },
          "execution_count": 69,
          "metadata": {},
          "output_type": "execute_result"
        }
      ],
      "source": [
        "heights_np = heights_np.reshape((6,1))\n",
        "heights_np"
      ]
    },
    {
      "cell_type": "code",
      "execution_count": 70,
      "metadata": {
        "colab": {},
        "colab_type": "code",
        "id": "uyDE32FWf87x",
        "outputId": "e8da2763-86df-41f2-f391-4e921a756b3b"
      },
      "outputs": [
        {
          "data": {
            "text/plain": [
              "array([[[50, 45],\n",
              "        [56, 78],\n",
              "        [78, 89],\n",
              "        [59, 90],\n",
              "        [89, 78],\n",
              "        [69, 70]],\n",
              "\n",
              "       [[67, 69],\n",
              "        [89, 70],\n",
              "        [90, 89],\n",
              "        [80, 84],\n",
              "        [89, 59],\n",
              "        [90, 78]]])"
            ]
          },
          "execution_count": 70,
          "metadata": {},
          "output_type": "execute_result"
        }
      ],
      "source": [
        "weights"
      ]
    },
    {
      "cell_type": "markdown",
      "metadata": {
        "colab_type": "text",
        "id": "mQmM6Q7yf870"
      },
      "source": [
        "We are going to add the elements of both arrays:"
      ]
    },
    {
      "cell_type": "code",
      "execution_count": 71,
      "metadata": {
        "colab": {},
        "colab_type": "code",
        "id": "VCu2iGPMf871",
        "outputId": "367a4841-049b-4dd2-c4dc-49e2bda6949c"
      },
      "outputs": [
        {
          "data": {
            "text/plain": [
              "array([[[215, 210],\n",
              "        [226, 248],\n",
              "        [249, 260],\n",
              "        [239, 270],\n",
              "        [278, 267],\n",
              "        [247, 248]],\n",
              "\n",
              "       [[232, 234],\n",
              "        [259, 240],\n",
              "        [261, 260],\n",
              "        [260, 264],\n",
              "        [278, 248],\n",
              "        [268, 256]]])"
            ]
          },
          "execution_count": 71,
          "metadata": {},
          "output_type": "execute_result"
        }
      ],
      "source": [
        "broad_np = heights_np + weights\n",
        "broad_np"
      ]
    },
    {
      "cell_type": "markdown",
      "metadata": {
        "colab_type": "text",
        "id": "OjvMdK5Xf875"
      },
      "source": [
        "Although the arrays have different dimensions, `numpy` makes a sum for the corresponding elements in common rows and columns, in such a way that the elements of the column vector `heights_np` are added with each column of the two-dimensional vector `weights`.\n",
        "\n",
        "Let's look at one more example:"
      ]
    },
    {
      "cell_type": "code",
      "execution_count": 72,
      "metadata": {
        "colab": {},
        "colab_type": "code",
        "id": "fZdEzysff876"
      },
      "outputs": [],
      "source": [
        "x = np.ones((3,4))\n",
        "y = np.random.random((5,1,4))"
      ]
    },
    {
      "cell_type": "code",
      "execution_count": 73,
      "metadata": {
        "colab": {},
        "colab_type": "code",
        "id": "uRcAROTYf879",
        "outputId": "3df28d8d-b9ef-4a02-97a9-475f1b6d5559"
      },
      "outputs": [
        {
          "data": {
            "text/plain": [
              "array([[1., 1., 1., 1.],\n",
              "       [1., 1., 1., 1.],\n",
              "       [1., 1., 1., 1.]])"
            ]
          },
          "execution_count": 73,
          "metadata": {},
          "output_type": "execute_result"
        }
      ],
      "source": [
        "x"
      ]
    },
    {
      "cell_type": "code",
      "execution_count": 74,
      "metadata": {
        "colab": {},
        "colab_type": "code",
        "id": "uz4cNW4yf88I",
        "outputId": "65c9a57e-b568-42f8-eb6e-5e758033e369"
      },
      "outputs": [
        {
          "data": {
            "text/plain": [
              "array([[[5.40796965e-01, 6.74177035e-04, 1.28396308e-01, 6.40234445e-01]],\n",
              "\n",
              "       [[9.90263499e-01, 4.99385620e-01, 5.23977779e-01, 7.22657733e-01]],\n",
              "\n",
              "       [[8.14614988e-01, 3.19726514e-01, 1.74225350e-01, 4.53233558e-01]],\n",
              "\n",
              "       [[1.21227494e-01, 2.18833679e-01, 5.36033126e-02, 8.78327191e-01]],\n",
              "\n",
              "       [[9.37488258e-01, 4.62745077e-01, 2.59641139e-01, 3.24922617e-01]]])"
            ]
          },
          "execution_count": 74,
          "metadata": {},
          "output_type": "execute_result"
        }
      ],
      "source": [
        "y"
      ]
    },
    {
      "cell_type": "code",
      "execution_count": 75,
      "metadata": {
        "colab": {},
        "colab_type": "code",
        "id": "lAVevw1of88R",
        "outputId": "e18b590b-12b4-411c-fd9d-d567d151319b"
      },
      "outputs": [
        {
          "data": {
            "text/plain": [
              "array([[[1.54079696, 1.00067418, 1.12839631, 1.64023444],\n",
              "        [1.54079696, 1.00067418, 1.12839631, 1.64023444],\n",
              "        [1.54079696, 1.00067418, 1.12839631, 1.64023444]],\n",
              "\n",
              "       [[1.9902635 , 1.49938562, 1.52397778, 1.72265773],\n",
              "        [1.9902635 , 1.49938562, 1.52397778, 1.72265773],\n",
              "        [1.9902635 , 1.49938562, 1.52397778, 1.72265773]],\n",
              "\n",
              "       [[1.81461499, 1.31972651, 1.17422535, 1.45323356],\n",
              "        [1.81461499, 1.31972651, 1.17422535, 1.45323356],\n",
              "        [1.81461499, 1.31972651, 1.17422535, 1.45323356]],\n",
              "\n",
              "       [[1.12122749, 1.21883368, 1.05360331, 1.87832719],\n",
              "        [1.12122749, 1.21883368, 1.05360331, 1.87832719],\n",
              "        [1.12122749, 1.21883368, 1.05360331, 1.87832719]],\n",
              "\n",
              "       [[1.93748826, 1.46274508, 1.25964114, 1.32492262],\n",
              "        [1.93748826, 1.46274508, 1.25964114, 1.32492262],\n",
              "        [1.93748826, 1.46274508, 1.25964114, 1.32492262]]])"
            ]
          },
          "execution_count": 75,
          "metadata": {},
          "output_type": "execute_result"
        }
      ],
      "source": [
        "z = x + y\n",
        "z"
      ]
    },
    {
      "cell_type": "markdown",
      "metadata": {
        "colab_type": "text",
        "id": "gveruh19f88W"
      },
      "source": [
        "Here each row in array `y` has been paired with rows in array `x`, since they have the same amount of column. The result is an array with triple the rows of array `y` and the same number of columns."
      ]
    },
    {
      "cell_type": "markdown",
      "metadata": {
        "colab_type": "text",
        "id": "A7-1g-4nf88X"
      },
      "source": [
        "## Exercise 5\n",
        "\n",
        "Propose an array `y` such that the operation $x + y$ results in the array `z`.\n",
        "```\n",
        "x = [[14, 15, 18],\n",
        "    [62, 90, 98],\n",
        "    [71, 73, 90],\n",
        "    [40, 24, 17],\n",
        "    [11, 81, 14],\n",
        "    [26, 81, 31]]\n",
        "\n",
        "z = [[24,  40,  58],\n",
        "    [72, 115, 138],\n",
        "    [81,  98, 130],\n",
        "    [50,  49,  57],\n",
        "    [21, 106,  54],\n",
        "    [36, 106,  71]]\n",
        "```"
      ]
    },
    {
      "cell_type": "code",
      "execution_count": 120,
      "metadata": {
        "colab": {},
        "colab_type": "code",
        "id": "MDxjJAjAf88X"
      },
      "outputs": [
        {
          "data": {
            "text/plain": [
              "array([[10, 25, 40],\n",
              "       [10, 25, 40],\n",
              "       [10, 25, 40],\n",
              "       [10, 25, 40],\n",
              "       [10, 25, 40],\n",
              "       [10, 25, 40]])"
            ]
          },
          "execution_count": 120,
          "metadata": {},
          "output_type": "execute_result"
        }
      ],
      "source": [
        "# Answer\n",
        "x = np.array([[14, 15, 18],[62, 90, 98],[71, 73, 90],[40, 24, 17],[11, 81, 14],[26, 81, 31]])\n",
        "\n",
        "z = np.array([[24,  40,  58],[72, 115, 138],[81,  98, 130],[50,  49,  57],[21, 106,  54],[36, 106,  71]])\n",
        "\n",
        "y = z - x \n",
        "y"
      ]
    },
    {
      "cell_type": "markdown",
      "metadata": {
        "colab_type": "text",
        "id": "01h2ZBRof88c"
      },
      "source": [
        "## 9.Matrix multiplication"
      ]
    },
    {
      "cell_type": "markdown",
      "metadata": {
        "colab_type": "text",
        "id": "Cfpn307pf88g"
      },
      "source": [
        "Let's delve into the element-wise and dot product multiplication between matrices (two-dimensional arrays). First, we define two matrices:"
      ]
    },
    {
      "cell_type": "code",
      "execution_count": 77,
      "metadata": {
        "colab": {},
        "colab_type": "code",
        "id": "ualh0UyRf88h",
        "outputId": "82e5373f-4b42-4c82-8b9c-872e02e8e9bc"
      },
      "outputs": [
        {
          "name": "stdout",
          "output_type": "stream",
          "text": [
            "Matrix A:\n",
            " [[1 1 8]\n",
            " [0 1 9]\n",
            " [9 0 8]] \n",
            "\n",
            "MATRIX B:\n",
            " [[2 0 0]\n",
            " [3 4 9]\n",
            " [7 8 9]] \n",
            "\n"
          ]
        }
      ],
      "source": [
        "A = np.array([[1,1,8],[0,1,9],[9,0,8]])\n",
        "print(\"Matrix A:\\n\", A, '\\n')\n",
        "\n",
        "B = np.array([[2,0,0],[3,4,9],[7,8,9]])\n",
        "print('MATRIX B:\\n', B, '\\n')"
      ]
    },
    {
      "cell_type": "markdown",
      "metadata": {
        "colab_type": "text",
        "id": "M1SBY0cdf88n"
      },
      "source": [
        "The product between the two matrices can be executed with the classic arithmetic operator `*`:"
      ]
    },
    {
      "cell_type": "code",
      "execution_count": 78,
      "metadata": {
        "colab": {},
        "colab_type": "code",
        "id": "MTw8eMcQf88o",
        "outputId": "5abf81c2-c2fa-4c64-ceab-a017a11584b7"
      },
      "outputs": [
        {
          "name": "stdout",
          "output_type": "stream",
          "text": [
            "Element wise multiplication:\n",
            " [[ 2  0  0]\n",
            " [ 0  4 81]\n",
            " [63  0 72]] \n",
            "\n"
          ]
        }
      ],
      "source": [
        "print(\"Element wise multiplication:\\n\", A*B, '\\n')"
      ]
    },
    {
      "cell_type": "markdown",
      "metadata": {
        "colab_type": "text",
        "id": "4nb2aUfQf88r"
      },
      "source": [
        "The dot product of matrices can be executed with the `@` operator or with the numpy `np.dot()` function:"
      ]
    },
    {
      "cell_type": "code",
      "execution_count": 79,
      "metadata": {
        "colab": {},
        "colab_type": "code",
        "id": "svM0Lk04f88s",
        "outputId": "b42ba9d3-418e-4f0d-e21e-516fdb2f04cd"
      },
      "outputs": [
        {
          "name": "stdout",
          "output_type": "stream",
          "text": [
            "Matrix product:\n",
            " [[61 68 81]\n",
            " [66 76 90]\n",
            " [74 64 72]] \n",
            "\n",
            "Dot product:\n",
            " [[61 68 81]\n",
            " [66 76 90]\n",
            " [74 64 72]] \n",
            "\n"
          ]
        }
      ],
      "source": [
        "print(\"Matrix product:\\n\", A@B, '\\n') # matrix A = (2 ,3) , matrix B= (3,4), output matrix =( 2,4)\n",
        "print(\"Dot product:\\n\", A.dot(B), '\\n')"
      ]
    },
    {
      "cell_type": "markdown",
      "metadata": {
        "colab_type": "text",
        "id": "l4lf81DJf88y"
      },
      "source": [
        "## 10. Arrays with `random` numbers"
      ]
    },
    {
      "cell_type": "markdown",
      "metadata": {
        "colab_type": "text",
        "id": "VTH1fTJef88y"
      },
      "source": [
        "A random number is a result of a variable combination specified by a distribution function. When no distribution is specified, it is assumed that the continuous uniform distribution in the interval [0,1) is used. Some functions for generating random numpy numbers are:\n",
        "- `np.random.random()`: returns random floats in the half-open interval [0.0, 1.0)\n",
        "- `np.random.randint(low, high)`: returns random integers from low (inclusive) to high (exclusive).\n",
        "- `np.random.normal()`: returns random samples from a normal (Gaussian) distribution.\n",
        "\n",
        "Let's see some examples:"
      ]
    },
    {
      "cell_type": "code",
      "execution_count": 80,
      "metadata": {
        "colab": {},
        "colab_type": "code",
        "id": "UKm6quFsf880",
        "outputId": "5bcb474a-469f-41fa-e894-dc2c84d7c0a3"
      },
      "outputs": [
        {
          "data": {
            "text/plain": [
              "array([[0.29741195, 0.89273662, 0.53869922],\n",
              "       [0.19988946, 0.8496667 , 0.62885044],\n",
              "       [0.38967539, 0.1560234 , 0.66844084],\n",
              "       [0.39387804, 0.05728991, 0.14265313]])"
            ]
          },
          "execution_count": 80,
          "metadata": {},
          "output_type": "execute_result"
        }
      ],
      "source": [
        "np.random.random((4,3))"
      ]
    },
    {
      "cell_type": "code",
      "execution_count": 81,
      "metadata": {
        "colab": {},
        "colab_type": "code",
        "id": "Z6KREOQ6f886",
        "outputId": "8b0a85f2-f976-4659-c1ad-c865c211f537"
      },
      "outputs": [
        {
          "data": {
            "text/plain": [
              "array([[17, 17, 16, 19],\n",
              "       [19, 13, 18, 11]])"
            ]
          },
          "execution_count": 81,
          "metadata": {},
          "output_type": "execute_result"
        }
      ],
      "source": [
        "np.random.randint(10, 20, size=(2, 4))"
      ]
    },
    {
      "cell_type": "code",
      "execution_count": 82,
      "metadata": {
        "colab": {},
        "colab_type": "code",
        "id": "vxMDECBPf889",
        "outputId": "af6aa58e-accf-447f-9420-8674efd12de3"
      },
      "outputs": [
        {
          "data": {
            "text/plain": [
              "array([ 0.29934322,  1.16222972,  0.48785512, -2.08993302,  0.07866361,\n",
              "       -1.73124218,  0.17038836, -0.99118965, -1.44030481, -1.08958041])"
            ]
          },
          "execution_count": 82,
          "metadata": {},
          "output_type": "execute_result"
        }
      ],
      "source": [
        "np.random.normal(size=10)"
      ]
    },
    {
      "cell_type": "markdown",
      "metadata": {
        "colab_type": "text",
        "id": "MtooXTQef89A"
      },
      "source": [
        "Ee can also specify a `seed`, so that the sequence of random numbers is repeatable (if you execute the following code several times, you will get the same random results):"
      ]
    },
    {
      "cell_type": "code",
      "execution_count": 83,
      "metadata": {
        "colab": {},
        "colab_type": "code",
        "id": "Df77Kx3wf89B",
        "outputId": "6e4dd404-c925-4e46-d32e-5763d9e24c48"
      },
      "outputs": [
        {
          "name": "stdout",
          "output_type": "stream",
          "text": [
            "[0.37454012 0.95071431 0.73199394 0.59865848 0.15601864 0.15599452\n",
            " 0.05808361 0.86617615 0.60111501 0.70807258]\n"
          ]
        }
      ],
      "source": [
        "from numpy.random import seed\n",
        "from numpy.random import rand\n",
        "\n",
        "# Seed random number generator\n",
        "seed(42)\n",
        "\n",
        "# Generate random numbers between 0-1\n",
        "values = rand(10)\n",
        "print(values)"
      ]
    },
    {
      "cell_type": "markdown",
      "metadata": {
        "colab_type": "text",
        "id": "iXJBJnNuf89E"
      },
      "source": [
        "## 11. Concatenate, and stack `Numpy` arrays"
      ]
    },
    {
      "cell_type": "markdown",
      "metadata": {
        "colab_type": "text",
        "id": "kVY0Sczdf89F"
      },
      "source": [
        "The **concatenation** `np.concatenate()` is a process of joining several arrays to form one, on the same axis. **Stacking** `np.stack()` is a process of joining arrays on a new axis. Let's dive a little bit more on this concepts with practical examples:"
      ]
    },
    {
      "cell_type": "code",
      "execution_count": 84,
      "metadata": {
        "colab": {},
        "colab_type": "code",
        "id": "EeXmRI4vf89G",
        "outputId": "0647a85f-d75f-4efd-88e9-da95832bf5ba"
      },
      "outputs": [
        {
          "name": "stdout",
          "output_type": "stream",
          "text": [
            "x: \t   [1 4 5 6]\n",
            "my_array:  [ 1  2 34  5]\n"
          ]
        }
      ],
      "source": [
        "my_array = np.array([1,2,34,5])\n",
        "x = np.array([1,4,5,6])\n",
        "print('x: \\t  ', x)\n",
        "print('my_array: ', my_array)"
      ]
    },
    {
      "cell_type": "code",
      "execution_count": 85,
      "metadata": {
        "colab": {},
        "colab_type": "code",
        "id": "clNfLcnof89I",
        "outputId": "462925f2-3d07-4a37-e9be-4a7e849e51f1"
      },
      "outputs": [
        {
          "name": "stdout",
          "output_type": "stream",
          "text": [
            "Append:\n",
            " [ 1  2 34  5  1  4  5  6]\n",
            "\n",
            "Concatenate:\n",
            " [ 1  2 34  5  1  4  5  6]\n"
          ]
        }
      ],
      "source": [
        "print('Append:\\n',np.append(my_array,x))\n",
        "y = np.append(my_array, x)\n",
        "\n",
        "# Concatentate `my_array` and `x`\n",
        "print('\\nConcatenate:\\n',np.concatenate((my_array,x)))"
      ]
    },
    {
      "cell_type": "code",
      "execution_count": 86,
      "metadata": {
        "colab": {},
        "colab_type": "code",
        "id": "_7bJKBFtf89Q",
        "outputId": "40ad7c8b-b5d3-4c39-bf3c-429ebdd16161"
      },
      "outputs": [
        {
          "name": "stdout",
          "output_type": "stream",
          "text": [
            "Stack row wise:\n",
            "[[ 1  2 34  5]\n",
            " [ 1  4  5  6]]\n"
          ]
        }
      ],
      "source": [
        "# Stack arrays vertically (row-wise)\n",
        "print(\"Stack row wise:\")\n",
        "print(np.vstack((my_array, x)))"
      ]
    },
    {
      "cell_type": "code",
      "execution_count": 87,
      "metadata": {
        "colab": {},
        "colab_type": "code",
        "id": "SWYSIGd2f89V",
        "outputId": "9f5f85d1-b718-4b0c-d960-5d3fd63662c5"
      },
      "outputs": [
        {
          "name": "stdout",
          "output_type": "stream",
          "text": [
            "Stack horizantally:\n",
            "[ 1  2 34  5  1  4  5  6]\n",
            "\n",
            "Another way:\n",
            "[ 1  2 34  5  1  4  5  6]\n"
          ]
        }
      ],
      "source": [
        "# Stack arrays horizontally\n",
        "print(\"Stack horizantally:\")\n",
        "print(np.hstack((my_array,x)))\n",
        "\n",
        "print(\"\\nAnother way:\")\n",
        "print(np.r_[my_array,x])"
      ]
    },
    {
      "cell_type": "code",
      "execution_count": 88,
      "metadata": {
        "colab": {},
        "colab_type": "code",
        "id": "01esLgVJf89X",
        "outputId": "e96c8f34-fce3-4778-b7e6-017670bb8097"
      },
      "outputs": [
        {
          "name": "stdout",
          "output_type": "stream",
          "text": [
            "Stack column wise:\n",
            "[[ 1  1]\n",
            " [ 2  4]\n",
            " [34  5]\n",
            " [ 5  6]]\n",
            "\n",
            "Column wise repeat:\n",
            "[[ 1  1]\n",
            " [ 2  4]\n",
            " [34  5]\n",
            " [ 5  6]]\n"
          ]
        }
      ],
      "source": [
        "# Stack arrays column-wise\n",
        "print(\"Stack column wise:\")\n",
        "print(np.column_stack(( my_array,x)))\n",
        "\n",
        "print(\"\\nColumn wise repeat:\")\n",
        "print(np.c_[ my_array,x])"
      ]
    },
    {
      "cell_type": "markdown",
      "metadata": {
        "colab_type": "text",
        "id": "BhNtyz95f89Z"
      },
      "source": [
        "As you have seen, when we concatenate the arrays, we do it on the same axis. When stacking arrays, we do it on a new axis."
      ]
    },
    {
      "cell_type": "markdown",
      "metadata": {
        "colab_type": "text",
        "id": "Bwr6bR0Yf89Z"
      },
      "source": [
        "## 12. Visualize `Numpy` array"
      ]
    },
    {
      "cell_type": "markdown",
      "metadata": {
        "colab_type": "text",
        "id": "HmeK1Uo5f89a"
      },
      "source": [
        "To visualize the content of a numpy array we can make use of the `matplotlib.pyplot` library, which allows us to visualize data and its distributions, among many other functions."
      ]
    },
    {
      "cell_type": "code",
      "execution_count": 89,
      "metadata": {
        "colab": {},
        "colab_type": "code",
        "id": "_DzI6kD1f89a"
      },
      "outputs": [],
      "source": [
        "import matplotlib.pyplot as plt"
      ]
    },
    {
      "cell_type": "markdown",
      "metadata": {
        "colab_type": "text",
        "id": "3X18qf_pf89c"
      },
      "source": [
        "Let's specify an initial state for the Mersenne Twister number generator, a pseudo-random number generator:"
      ]
    },
    {
      "cell_type": "code",
      "execution_count": 90,
      "metadata": {
        "colab": {},
        "colab_type": "code",
        "id": "fnn7PTnpf89c"
      },
      "outputs": [],
      "source": [
        "rng = np.random.RandomState(10)  "
      ]
    },
    {
      "cell_type": "markdown",
      "metadata": {
        "colab_type": "text",
        "id": "FPOQujvIf89e"
      },
      "source": [
        "Now we generate random values of two normal distributions with different mean and standard deviation, a distribution of mean 0 and another of mean 5, stacking them in a single array horizontally:"
      ]
    },
    {
      "cell_type": "code",
      "execution_count": 91,
      "metadata": {
        "colab": {},
        "colab_type": "code",
        "id": "yPqv_8MSf89e"
      },
      "outputs": [
        {
          "data": {
            "text/plain": [
              "array([ 1.3315865 ,  0.71527897, -1.54540029, ...,  5.74446677,\n",
              "        6.22449239,  8.42055014])"
            ]
          },
          "execution_count": 91,
          "metadata": {},
          "output_type": "execute_result"
        }
      ],
      "source": [
        "a = np.hstack((rng.normal(size=1000),rng.normal(loc=5, scale=2, size=1000)))\n",
        "a"
      ]
    },
    {
      "cell_type": "markdown",
      "metadata": {
        "colab_type": "text",
        "id": "_9Dof31hf89h"
      },
      "source": [
        "Let's visualize the data of the number arrangement of the two distributions, in a histogram with the help of the library `matplotlib.pyplot` to which we have aliased `plt`:"
      ]
    },
    {
      "cell_type": "code",
      "execution_count": 92,
      "metadata": {
        "colab": {},
        "colab_type": "code",
        "id": "0dep-zq-f89i",
        "outputId": "99d8aec3-90cc-4971-d489-728c21529fa1"
      },
      "outputs": [
        {
          "data": {
            "image/png": "[encoded data removed]",
            "text/plain": [
              "<Figure size 640x480 with 1 Axes>"
            ]
          },
          "metadata": {},
          "output_type": "display_data"
        }
      ],
      "source": [
        "plt.hist(a, bins='auto')\n",
        "plt.title(\"Histogram\")\n",
        "plt.show()"
      ]
    },
    {
      "cell_type": "markdown",
      "metadata": {
        "colab_type": "text",
        "id": "_1VR0dbSf89l"
      },
      "source": [
        "As can be seen, this graph denotes the distribution of the two normal distributions with a mean of 0 and 5.\n",
        "\n",
        "As an additional example, we are creating a meshgrid `np.meshgrid()` with values generated from an array of `numpy` with initial value of 5, final value of -5 (exclusive) and step of 0.01. We have calculated the value of `z` which corresponds to the general equation of a circle, so that we can generate the graph shown below:"
      ]
    },
    {
      "cell_type": "code",
      "execution_count": 93,
      "metadata": {
        "colab": {},
        "colab_type": "code",
        "id": "FGS6p0JKf89l",
        "outputId": "0bff6fc1-3dbb-4dc1-adea-7c76470c597e"
      },
      "outputs": [
        {
          "data": {
            "image/png": "[encoded data removed]",
            "text/plain": [
              "<Figure size 640x480 with 2 Axes>"
            ]
          },
          "metadata": {},
          "output_type": "display_data"
        }
      ],
      "source": [
        "# Create an array\n",
        "points = np.arange(-5, 5, 0.01)\n",
        "\n",
        "# Make a meshgrid\n",
        "xs, ys = np.meshgrid(points, points)\n",
        "z = np.sqrt(xs ** 2 + ys ** 2)\n",
        "\n",
        "# Display the image on the axes\n",
        "plt.imshow(z, cmap=plt.cm.Reds)\n",
        "\n",
        "# Draw a color bar\n",
        "plt.colorbar()\n",
        "\n",
        "# Show the plot\n",
        "plt.show()"
      ]
    },
    {
      "cell_type": "markdown",
      "metadata": {
        "colab_type": "text",
        "id": "XmZ4smUcf89q"
      },
      "source": [
        "## 13. Save the numpy ndarray object into a npy file"
      ]
    },
    {
      "cell_type": "markdown",
      "metadata": {
        "colab_type": "text",
        "id": "mor-Nulpf89r"
      },
      "source": [
        "Finally, one of the most important parts of the entire analysis process, the storage of the results. We can do this with the `np.savetxt()` function:"
      ]
    },
    {
      "cell_type": "code",
      "execution_count": 94,
      "metadata": {
        "colab": {},
        "colab_type": "code",
        "id": "bQsxuM45f89s"
      },
      "outputs": [],
      "source": [
        "import numpy as np\n",
        "x = np.arange(0.0,5.0,1.0)\n",
        "np.savetxt('test.txt', x, delimiter=',')"
      ]
    },
    {
      "cell_type": "markdown",
      "metadata": {
        "colab_type": "text",
        "id": "72_3EDqvf89u"
      },
      "source": [
        "## Conclusions"
      ]
    },
    {
      "cell_type": "markdown",
      "metadata": {
        "colab_type": "text",
        "id": "6wI9rklxf89v"
      },
      "source": [
        "We have learned the fundamentals of the `numpy` library for scientific computing, which allows us to create multidimensional arrays and operate them using arithmetic, logical, and relational operators. We have also learned how to restructure arrangements in various ways, as well as the basic tools for visualization. \n",
        "\n",
        "In the next case study, we will see what is related to the `pandas` library, so we are ready to do data analysis dynamically and efficiently!"
      ]
    }
  ],
  "metadata": {
    "colab": {
      "collapsed_sections": [
        "duzjeUcif80N",
        "zuBioeTlf80X",
        "GwLfLSTlf80l",
        "2-uucNPFf801",
        "cUHAWcogf81A",
        "glWK1SmQf81L",
        "8Zzy41d-f81X",
        "IUcJXROuf81e",
        "3UynyX_tf82I",
        "RjHuCML-f82Z",
        "Q4CsNBFlf82q",
        "7dO7jOTAf82z",
        "VTFMFZL5f83I",
        "rNyg6F4Rf83U",
        "F1c5rQ_ef83k",
        "MKctH8ahf84O",
        "XQrlx6_sf84s",
        "4fQJHzwsf85n",
        "5mza7Wgaf85v",
        "cxq-GcGNf86X",
        "4IZrRPhaf86z",
        "eEOFfrmhf87E",
        "fLS5wApRf87o",
        "A7-1g-4nf88X",
        "01h2ZBRof88c",
        "l4lf81DJf88y",
        "iXJBJnNuf89E",
        "Bwr6bR0Yf89Z",
        "XmZ4smUcf89q",
        "72_3EDqvf89u"
      ],
      "include_colab_link": true,
      "name": "Introduction_to_Numpy.ipynb",
      "provenance": []
    },
    "kernelspec": {
      "display_name": "base",
      "language": "python",
      "name": "python3"
    },
    "language_info": {
      "codemirror_mode": {
        "name": "ipython",
        "version": 3
      },
      "file_extension": ".py",
      "mimetype": "text/x-python",
      "name": "python",
      "nbconvert_exporter": "python",
      "pygments_lexer": "ipython3",
      "version": "3.9.7"
    },
    "vscode": {
      "interpreter": {
        "hash": "c40244537d48a44f0f78aa85e3d97623f79e3c29b841a6836e13fdebcc7dc535"
      }
    }
  },
  "nbformat": 4,
  "nbformat_minor": 0
}
